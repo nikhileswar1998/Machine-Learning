{
 "cells": [
  {
   "cell_type": "code",
   "execution_count": 12,
   "id": "88ea15cb",
   "metadata": {},
   "outputs": [],
   "source": [
    "import torch\n",
    "import sklearn\n",
    "import os\n",
    "import matplotlib.pyplot as plt\n",
    "from torch import nn\n",
    "from torch.utils.data import DataLoader,SubsetRandomSampler,Dataset\n",
    "from sklearn.metrics import confusion_matrix\n",
    "import time \n",
    "import torch.optim.lr_scheduler as lr_scheduler\n",
    "# from torchvision import datasets,transforms"
   ]
  },
  {
   "cell_type": "code",
   "execution_count": 13,
   "id": "7c5b5d72",
   "metadata": {},
   "outputs": [],
   "source": [
    "from sklearn.model_selection import KFold"
   ]
  },
  {
   "cell_type": "code",
   "execution_count": 14,
   "id": "be10e787",
   "metadata": {},
   "outputs": [],
   "source": [
    "import numpy as np\n",
    "import pandas as pd\n",
    "from sklearn.preprocessing import StandardScaler\n",
    "from sklearn.model_selection import train_test_split\n",
    "from sklearn.preprocessing import OneHotEncoder"
   ]
  },
  {
   "cell_type": "code",
   "execution_count": 15,
   "id": "39c26675",
   "metadata": {},
   "outputs": [],
   "source": [
    "\n",
    "data=pd.read_csv('dataset.csv')\n",
    "df=pd.DataFrame(data)"
   ]
  },
  {
   "cell_type": "code",
   "execution_count": 16,
   "id": "7333f6b5",
   "metadata": {},
   "outputs": [
    {
     "data": {
      "text/html": [
       "<div>\n",
       "<style scoped>\n",
       "    .dataframe tbody tr th:only-of-type {\n",
       "        vertical-align: middle;\n",
       "    }\n",
       "\n",
       "    .dataframe tbody tr th {\n",
       "        vertical-align: top;\n",
       "    }\n",
       "\n",
       "    .dataframe thead th {\n",
       "        text-align: right;\n",
       "    }\n",
       "</style>\n",
       "<table border=\"1\" class=\"dataframe\">\n",
       "  <thead>\n",
       "    <tr style=\"text-align: right;\">\n",
       "      <th></th>\n",
       "      <th>f1</th>\n",
       "      <th>f2</th>\n",
       "      <th>f3</th>\n",
       "      <th>f4</th>\n",
       "      <th>f5</th>\n",
       "      <th>f6</th>\n",
       "      <th>f7</th>\n",
       "      <th>target</th>\n",
       "    </tr>\n",
       "  </thead>\n",
       "  <tbody>\n",
       "    <tr>\n",
       "      <th>0</th>\n",
       "      <td>6</td>\n",
       "      <td>148</td>\n",
       "      <td>72</td>\n",
       "      <td>35</td>\n",
       "      <td>0</td>\n",
       "      <td>33.6</td>\n",
       "      <td>0.627</td>\n",
       "      <td>1</td>\n",
       "    </tr>\n",
       "    <tr>\n",
       "      <th>1</th>\n",
       "      <td>1</td>\n",
       "      <td>85</td>\n",
       "      <td>66</td>\n",
       "      <td>29</td>\n",
       "      <td>0</td>\n",
       "      <td>26.6</td>\n",
       "      <td>0.351</td>\n",
       "      <td>0</td>\n",
       "    </tr>\n",
       "    <tr>\n",
       "      <th>2</th>\n",
       "      <td>8</td>\n",
       "      <td>183</td>\n",
       "      <td>64</td>\n",
       "      <td>0</td>\n",
       "      <td>0</td>\n",
       "      <td>23.3</td>\n",
       "      <td>0.672</td>\n",
       "      <td>1</td>\n",
       "    </tr>\n",
       "    <tr>\n",
       "      <th>3</th>\n",
       "      <td>1</td>\n",
       "      <td>89</td>\n",
       "      <td>66</td>\n",
       "      <td>23</td>\n",
       "      <td>94</td>\n",
       "      <td>28.1</td>\n",
       "      <td>0.167</td>\n",
       "      <td>0</td>\n",
       "    </tr>\n",
       "    <tr>\n",
       "      <th>4</th>\n",
       "      <td>0</td>\n",
       "      <td>137</td>\n",
       "      <td>40</td>\n",
       "      <td>35</td>\n",
       "      <td>168</td>\n",
       "      <td>43.1</td>\n",
       "      <td>2.288</td>\n",
       "      <td>1</td>\n",
       "    </tr>\n",
       "  </tbody>\n",
       "</table>\n",
       "</div>"
      ],
      "text/plain": [
       "  f1   f2  f3  f4   f5    f6     f7  target\n",
       "0  6  148  72  35    0  33.6  0.627       1\n",
       "1  1   85  66  29    0  26.6  0.351       0\n",
       "2  8  183  64   0    0  23.3  0.672       1\n",
       "3  1   89  66  23   94  28.1  0.167       0\n",
       "4  0  137  40  35  168  43.1  2.288       1"
      ]
     },
     "execution_count": 16,
     "metadata": {},
     "output_type": "execute_result"
    }
   ],
   "source": [
    "df.head()"
   ]
  },
  {
   "cell_type": "code",
   "execution_count": 17,
   "id": "0b1d3673",
   "metadata": {},
   "outputs": [
    {
     "data": {
      "text/html": [
       "<div>\n",
       "<style scoped>\n",
       "    .dataframe tbody tr th:only-of-type {\n",
       "        vertical-align: middle;\n",
       "    }\n",
       "\n",
       "    .dataframe tbody tr th {\n",
       "        vertical-align: top;\n",
       "    }\n",
       "\n",
       "    .dataframe thead th {\n",
       "        text-align: right;\n",
       "    }\n",
       "</style>\n",
       "<table border=\"1\" class=\"dataframe\">\n",
       "  <thead>\n",
       "    <tr style=\"text-align: right;\">\n",
       "      <th></th>\n",
       "      <th>f1</th>\n",
       "      <th>f2</th>\n",
       "      <th>f3</th>\n",
       "      <th>f4</th>\n",
       "      <th>f5</th>\n",
       "      <th>f6</th>\n",
       "      <th>f7</th>\n",
       "    </tr>\n",
       "  </thead>\n",
       "  <tbody>\n",
       "    <tr>\n",
       "      <th>0</th>\n",
       "      <td>6</td>\n",
       "      <td>148</td>\n",
       "      <td>72</td>\n",
       "      <td>35</td>\n",
       "      <td>0</td>\n",
       "      <td>33.6</td>\n",
       "      <td>0.627</td>\n",
       "    </tr>\n",
       "    <tr>\n",
       "      <th>1</th>\n",
       "      <td>1</td>\n",
       "      <td>85</td>\n",
       "      <td>66</td>\n",
       "      <td>29</td>\n",
       "      <td>0</td>\n",
       "      <td>26.6</td>\n",
       "      <td>0.351</td>\n",
       "    </tr>\n",
       "    <tr>\n",
       "      <th>2</th>\n",
       "      <td>8</td>\n",
       "      <td>183</td>\n",
       "      <td>64</td>\n",
       "      <td>0</td>\n",
       "      <td>0</td>\n",
       "      <td>23.3</td>\n",
       "      <td>0.672</td>\n",
       "    </tr>\n",
       "    <tr>\n",
       "      <th>3</th>\n",
       "      <td>1</td>\n",
       "      <td>89</td>\n",
       "      <td>66</td>\n",
       "      <td>23</td>\n",
       "      <td>94</td>\n",
       "      <td>28.1</td>\n",
       "      <td>0.167</td>\n",
       "    </tr>\n",
       "    <tr>\n",
       "      <th>4</th>\n",
       "      <td>0</td>\n",
       "      <td>137</td>\n",
       "      <td>40</td>\n",
       "      <td>35</td>\n",
       "      <td>168</td>\n",
       "      <td>43.1</td>\n",
       "      <td>2.288</td>\n",
       "    </tr>\n",
       "    <tr>\n",
       "      <th>...</th>\n",
       "      <td>...</td>\n",
       "      <td>...</td>\n",
       "      <td>...</td>\n",
       "      <td>...</td>\n",
       "      <td>...</td>\n",
       "      <td>...</td>\n",
       "      <td>...</td>\n",
       "    </tr>\n",
       "    <tr>\n",
       "      <th>761</th>\n",
       "      <td>9</td>\n",
       "      <td>89</td>\n",
       "      <td>62</td>\n",
       "      <td>0</td>\n",
       "      <td>0</td>\n",
       "      <td>22.5</td>\n",
       "      <td>e</td>\n",
       "    </tr>\n",
       "    <tr>\n",
       "      <th>762</th>\n",
       "      <td>10</td>\n",
       "      <td>101</td>\n",
       "      <td>76</td>\n",
       "      <td>48</td>\n",
       "      <td>180</td>\n",
       "      <td>d</td>\n",
       "      <td>0.171</td>\n",
       "    </tr>\n",
       "    <tr>\n",
       "      <th>763</th>\n",
       "      <td>2</td>\n",
       "      <td>122</td>\n",
       "      <td>70</td>\n",
       "      <td>27</td>\n",
       "      <td>b</td>\n",
       "      <td>36.8</td>\n",
       "      <td>0.34</td>\n",
       "    </tr>\n",
       "    <tr>\n",
       "      <th>764</th>\n",
       "      <td>c</td>\n",
       "      <td>121</td>\n",
       "      <td>72</td>\n",
       "      <td>23</td>\n",
       "      <td>112</td>\n",
       "      <td>26.2</td>\n",
       "      <td>0.245</td>\n",
       "    </tr>\n",
       "    <tr>\n",
       "      <th>765</th>\n",
       "      <td>1</td>\n",
       "      <td>126</td>\n",
       "      <td>60</td>\n",
       "      <td>a</td>\n",
       "      <td>0</td>\n",
       "      <td>30.1</td>\n",
       "      <td>0.349</td>\n",
       "    </tr>\n",
       "  </tbody>\n",
       "</table>\n",
       "<p>766 rows × 7 columns</p>\n",
       "</div>"
      ],
      "text/plain": [
       "     f1   f2  f3  f4   f5    f6     f7\n",
       "0     6  148  72  35    0  33.6  0.627\n",
       "1     1   85  66  29    0  26.6  0.351\n",
       "2     8  183  64   0    0  23.3  0.672\n",
       "3     1   89  66  23   94  28.1  0.167\n",
       "4     0  137  40  35  168  43.1  2.288\n",
       "..   ..  ...  ..  ..  ...   ...    ...\n",
       "761   9   89  62   0    0  22.5      e\n",
       "762  10  101  76  48  180     d  0.171\n",
       "763   2  122  70  27    b  36.8   0.34\n",
       "764   c  121  72  23  112  26.2  0.245\n",
       "765   1  126  60   a    0  30.1  0.349\n",
       "\n",
       "[766 rows x 7 columns]"
      ]
     },
     "execution_count": 17,
     "metadata": {},
     "output_type": "execute_result"
    }
   ],
   "source": [
    "X=df.drop('target',axis=1)\n",
    "X"
   ]
  },
  {
   "cell_type": "code",
   "execution_count": 18,
   "id": "6c1b6946",
   "metadata": {},
   "outputs": [
    {
     "data": {
      "text/plain": [
       "f1    object\n",
       "f2    object\n",
       "f3     int64\n",
       "f4    object\n",
       "f5    object\n",
       "f6    object\n",
       "f7    object\n",
       "dtype: object"
      ]
     },
     "execution_count": 18,
     "metadata": {},
     "output_type": "execute_result"
    }
   ],
   "source": [
    "X.dtypes"
   ]
  },
  {
   "cell_type": "code",
   "execution_count": 19,
   "id": "3a34198c",
   "metadata": {},
   "outputs": [
    {
     "data": {
      "text/plain": [
       "32      13\n",
       "31.2    12\n",
       "31.6    12\n",
       "0       11\n",
       "33.3    10\n",
       "        ..\n",
       "36.7     1\n",
       "41.8     1\n",
       "42.6     1\n",
       "42.8     1\n",
       "d        1\n",
       "Name: f6, Length: 249, dtype: int64"
      ]
     },
     "execution_count": 19,
     "metadata": {},
     "output_type": "execute_result"
    }
   ],
   "source": [
    "df['f6'].value_counts()"
   ]
  },
  {
   "cell_type": "code",
   "execution_count": 20,
   "id": "ed6d9eaa",
   "metadata": {},
   "outputs": [],
   "source": [
    "enc=OneHotEncoder(handle_unknown='ignore')\n",
    "X=enc.fit_transform(X)"
   ]
  },
  {
   "cell_type": "code",
   "execution_count": 21,
   "id": "38d680e9",
   "metadata": {},
   "outputs": [
    {
     "data": {
      "text/plain": [
       "array([['6', '148', 72, ..., '0', '33.6', '0.627'],\n",
       "       ['1', '85', 66, ..., '0', '26.6', '0.351'],\n",
       "       ['8', '183', 64, ..., '0', '23.3', '0.672'],\n",
       "       ...,\n",
       "       ['2', '122', 70, ..., 'b', '36.8', '0.34'],\n",
       "       ['c', '121', 72, ..., '112', '26.2', '0.245'],\n",
       "       ['1', '126', 60, ..., '0', '30.1', '0.349']], dtype=object)"
      ]
     },
     "execution_count": 21,
     "metadata": {},
     "output_type": "execute_result"
    }
   ],
   "source": [
    "enc.inverse_transform(X.toarray())"
   ]
  },
  {
   "cell_type": "code",
   "execution_count": 22,
   "id": "567cccf2",
   "metadata": {},
   "outputs": [],
   "source": [
    "Y=df['target']\n",
    "sc=StandardScaler()\n",
    "X=sc.fit_transform(X.toarray())\n",
    "X_train, X_test, Y_train, Y_test = train_test_split(X, Y, test_size = 0.20, random_state = 1,stratify = df[\"target\"])"
   ]
  },
  {
   "cell_type": "code",
   "execution_count": 23,
   "id": "1be6990a",
   "metadata": {},
   "outputs": [
    {
     "name": "stdout",
     "output_type": "stream",
     "text": [
      "mps\n"
     ]
    }
   ],
   "source": [
    "device='mps' if torch.backends.mps.is_available() else 'cpu'\n",
    "print(f'{device}')"
   ]
  },
  {
   "cell_type": "code",
   "execution_count": 24,
   "id": "7d3ae095",
   "metadata": {},
   "outputs": [],
   "source": [
    "import math"
   ]
  },
  {
   "cell_type": "code",
   "execution_count": 25,
   "id": "ea30e52a",
   "metadata": {},
   "outputs": [
    {
     "name": "stdout",
     "output_type": "stream",
     "text": [
      "True\n"
     ]
    }
   ],
   "source": [
    "print(torch.backends.mps.is_available())"
   ]
  },
  {
   "cell_type": "code",
   "execution_count": 26,
   "id": "54ee9c39",
   "metadata": {},
   "outputs": [
    {
     "name": "stdout",
     "output_type": "stream",
     "text": [
      "True\n"
     ]
    }
   ],
   "source": [
    "print(torch.backends.mps.is_built())"
   ]
  },
  {
   "cell_type": "code",
   "execution_count": 27,
   "id": "c72dcc83",
   "metadata": {},
   "outputs": [],
   "source": [
    "device=torch.device('cpu')"
   ]
  },
  {
   "cell_type": "code",
   "execution_count": 28,
   "id": "b0dbaf32",
   "metadata": {},
   "outputs": [],
   "source": [
    "class NeuralNetwork(nn.Module):\n",
    "    def __init__(self):\n",
    "        super(NeuralNetwork,self).__init__()\n",
    "        self.flatten=nn.Flatten()\n",
    "        self.linear_relu_stack=nn.Sequential(\n",
    "            nn.Linear(1206,512),\n",
    "            nn.ReLU(),\n",
    "            nn.Linear(512,256),\n",
    "            nn.ReLU(),\n",
    "            nn.Linear(256,256),\n",
    "            nn.ReLU(),\n",
    "            nn.Linear(256,128),\n",
    "            nn.ReLU(),\n",
    "            nn.Linear(128,64),\n",
    "            nn.ReLU(),\n",
    "#             nn.Linear(128,64),\n",
    "#             nn.ReLU(),\n",
    "#             nn.Linear(64,64),\n",
    "            nn.ReLU(),\n",
    "            nn.Linear(64,1)\n",
    "        )\n",
    "        self.sigmoid=nn.Sigmoid()\n",
    "    def forward(self, x):\n",
    "        x = self.flatten(x)\n",
    "        logits = self.sigmoid(self.linear_relu_stack(x))\n",
    "        return torch.reshape(logits,(-1,))\n",
    "    \n",
    "    "
   ]
  },
  {
   "cell_type": "code",
   "execution_count": 50,
   "id": "5843ed8b",
   "metadata": {},
   "outputs": [
    {
     "name": "stdout",
     "output_type": "stream",
     "text": [
      "NeuralNetwork(\n",
      "  (flatten): Flatten(start_dim=1, end_dim=-1)\n",
      "  (linear_relu_stack): Sequential(\n",
      "    (0): Linear(in_features=1206, out_features=512, bias=True)\n",
      "    (1): ReLU()\n",
      "    (2): Linear(in_features=512, out_features=256, bias=True)\n",
      "    (3): ReLU()\n",
      "    (4): Linear(in_features=256, out_features=256, bias=True)\n",
      "    (5): ReLU()\n",
      "    (6): Linear(in_features=256, out_features=128, bias=True)\n",
      "    (7): ReLU()\n",
      "    (8): Linear(in_features=128, out_features=64, bias=True)\n",
      "    (9): ReLU()\n",
      "    (10): ReLU()\n",
      "    (11): Linear(in_features=64, out_features=1, bias=True)\n",
      "  )\n",
      "  (sigmoid): Sigmoid()\n",
      ")\n"
     ]
    }
   ],
   "source": [
    "model = NeuralNetwork().to(device) \n",
    "print(model)"
   ]
  },
  {
   "cell_type": "code",
   "execution_count": 30,
   "id": "e126b809",
   "metadata": {},
   "outputs": [
    {
     "name": "stdout",
     "output_type": "stream",
     "text": [
      "torch.float32\n",
      "torch.Size([1])\n",
      "torch.float32\n",
      "Predicted class: tensor([0.4925], grad_fn=<ViewBackward0>)\n"
     ]
    }
   ],
   "source": [
    "X = torch.rand(1, 1206, device=device)\n",
    "print(X.dtype)\n",
    "logits = model(X)\n",
    "# pred_probab = nn.Softmax(dim=1)(logits) \n",
    "# y_pred = pred_probab.argmax(1) \n",
    "y_pred=logits\n",
    "print(y_pred.shape)\n",
    "print(y_pred.dtype)\n",
    "print(f\"Predicted class: {y_pred}\")"
   ]
  },
  {
   "cell_type": "code",
   "execution_count": 31,
   "id": "283902bc",
   "metadata": {},
   "outputs": [
    {
     "data": {
      "text/plain": [
       "(612, 1206)"
      ]
     },
     "execution_count": 31,
     "metadata": {},
     "output_type": "execute_result"
    }
   ],
   "source": [
    "X_train.shape"
   ]
  },
  {
   "cell_type": "code",
   "execution_count": 32,
   "id": "7b35725a",
   "metadata": {},
   "outputs": [],
   "source": [
    "\n",
    "from torch.utils.data import DataLoader, TensorDataset\n",
    "\n",
    "X_train_tensor = torch.tensor(X_train)\n",
    "Y_train_tensor = torch.tensor(Y_train.values)\n",
    "X_train_tensor = X_train_tensor.to(torch.float32)\n",
    "Y_train_tensor=Y_train_tensor.type(torch.float32)\n",
    "dataset = TensorDataset(X_train_tensor, Y_train_tensor)\n",
    "\n",
    "batch_size = 5\n",
    "batch_size2=X_train.shape[0]\n",
    "batch_size3=X_test.shape[0]\n",
    "training_loader = DataLoader(dataset, batch_size=batch_size, shuffle=True)"
   ]
  },
  {
   "cell_type": "code",
   "execution_count": 33,
   "id": "90991e17",
   "metadata": {},
   "outputs": [
    {
     "data": {
      "text/plain": [
       "torch.float32"
      ]
     },
     "execution_count": 33,
     "metadata": {},
     "output_type": "execute_result"
    }
   ],
   "source": [
    "X_train_tensor.dtype"
   ]
  },
  {
   "cell_type": "code",
   "execution_count": 34,
   "id": "4ac62253",
   "metadata": {},
   "outputs": [],
   "source": [
    "X_test_tensor=torch.tensor(X_test)\n",
    "X_test_tensor = X_test_tensor.to(torch.float32)\n",
    "Y_test_tensor=torch.tensor(Y_test.values)\n",
    "Y_test_tensor=Y_test_tensor.type(torch.float32)"
   ]
  },
  {
   "cell_type": "code",
   "execution_count": 35,
   "id": "7272d483",
   "metadata": {},
   "outputs": [],
   "source": [
    "testingdata=TensorDataset(X_test_tensor,Y_test_tensor)\n",
    "testing_loader=DataLoader(testingdata,batch_size=batch_size,shuffle=False)\n"
   ]
  },
  {
   "cell_type": "code",
   "execution_count": 36,
   "id": "a80fac0e",
   "metadata": {},
   "outputs": [
    {
     "data": {
      "text/plain": [
       "123"
      ]
     },
     "execution_count": 36,
     "metadata": {},
     "output_type": "execute_result"
    }
   ],
   "source": [
    "len(training_loader)"
   ]
  },
  {
   "cell_type": "code",
   "execution_count": 51,
   "id": "85b9b305",
   "metadata": {},
   "outputs": [],
   "source": [
    "loss_fn= torch.nn.BCELoss()\n",
    "optimizer = torch.optim.SGD(model.parameters(), lr=0.01,momentum=0.8)\n",
    "\n",
    "def train_one_epoch(epoch_index):\n",
    "    \n",
    "    running_loss = 0.\n",
    "    last_loss = 0.\n",
    "    num_correct=0\n",
    "    for i, data in enumerate(training_loader):\n",
    "        inputs, labels = data\n",
    "        optimizer.zero_grad()\n",
    "        outputs = model(inputs)\n",
    "        loss = loss_fn(outputs, labels)\n",
    "        loss.backward()\n",
    "        optimizer.step()\n",
    "        running_loss += loss.item()\n",
    "        predictions=(outputs>=0.5)\n",
    "        num_correct+=(predictions==labels).sum()\n",
    "#         if i % 20 == 19:\n",
    "#             last_loss = running_loss/19  \n",
    "# #            print('  batch {} loss: {}'.format(i + 1, last_loss))\n",
    "# #             tb_x = epoch_index * len(training_loader) + i + 1\n",
    "# #             tb_writer.add_scalar('Loss/train', last_loss, tb_x)\n",
    "#             running_loss = 0\n",
    "    return [running_loss,num_correct]"
   ]
  },
  {
   "cell_type": "code",
   "execution_count": 52,
   "id": "2e21787a",
   "metadata": {},
   "outputs": [
    {
     "name": "stdout",
     "output_type": "stream",
     "text": [
      "current epoch is 1\n",
      "training loss is 80.91609945893288\n",
      "current epoch is 2\n",
      "training loss is 79.7540884912014\n",
      "current epoch is 3\n",
      "training loss is 79.65566515922546\n",
      "current epoch is 4\n",
      "training loss is 78.84028080105782\n",
      "current epoch is 5\n",
      "training loss is 75.97668394446373\n",
      "current epoch is 6\n",
      "training loss is 51.37436749506742\n",
      "current epoch is 7\n",
      "training loss is 20.84491809323663\n",
      "current epoch is 8\n",
      "training loss is 10.473737401145627\n",
      "current epoch is 9\n",
      "training loss is 3.0819996841892134\n",
      "current epoch is 10\n",
      "training loss is 1.7807531184807885\n",
      "tensor(0.2764, grad_fn=<DivBackward0>)\n",
      "tensor(92)\n",
      "[100, 100, 100, 100, 100, 96, 97, 99, 91, 92]\n",
      "tensor(80.)\n"
     ]
    }
   ],
   "source": [
    "testing_best_loss=100000000\n",
    "epoch_current=1\n",
    "epochs=10\n",
    "num_correct=0\n",
    "num_samples=0\n",
    "test_epoch=[]\n",
    "train_epoch=[]\n",
    "y_prediction=[]\n",
    "y_true=[]\n",
    "for epoch in range(epochs):\n",
    "    num_correct=0\n",
    "    num_samples=0\n",
    "    print(f'current epoch is {epoch_current}')\n",
    "    model.train(True)\n",
    "    ans=train_one_epoch(epoch_current)\n",
    "    model.train(False)\n",
    "    print(f'training loss is {ans[0]}')\n",
    "    testing_loss=0\n",
    "    total_testing_loss=0\n",
    "    for i,testdata in enumerate(testing_loader):\n",
    "        testinputs,testlabels=testdata\n",
    "        testoutputs=model(testinputs)\n",
    "        testloss=loss_fn(testoutputs,testlabels)\n",
    "        total_testing_loss+=testloss\n",
    "        avg_testing_loss=total_testing_loss/(i+1)\n",
    "        predictions=(testoutputs>=0.5)\n",
    "        num_correct+=(predictions==testlabels).sum()\n",
    "        num_samples+=predictions.size(0)\n",
    "        if (avg_testing_loss<testing_best_loss):\n",
    "            testing_best_loss=avg_testing_loss\n",
    "            best_model=model.state_dict()\n",
    "            predictions=(testoutputs>0.5)\n",
    "            correct_ones=((predictions==testlabels).sum())/(testlabels.size(dim=0))\n",
    "    test_epoch.append(num_correct.item())\n",
    "    train_epoch.append(ans[1])\n",
    "    epoch_current+=1\n",
    "# for i,testdata in enumerate(testing_loader):\n",
    "#     testinputs,testlabels=testdata\n",
    "#     testoutputs=best_model(testinputs)\n",
    "#     predictions=(testoutputs>0.5)\n",
    "#     num_correct_final+=(predictions==testlabels).sum()\n",
    "    \n",
    "print(testing_best_loss)\n",
    "print(num_correct)\n",
    "print(test_epoch)\n",
    "print(correct_ones*100)\n",
    "torch.save(best_model,f'NN_part1.h5')    "
   ]
  },
  {
   "cell_type": "code",
   "execution_count": 54,
   "id": "da31ed78",
   "metadata": {},
   "outputs": [],
   "source": [
    "test_epoch=[ele/120 for ele in test_epoch]\n",
    "\n",
    "train_epoch=[ele/612 for ele in train_epoch]"
   ]
  },
  {
   "cell_type": "code",
   "execution_count": 58,
   "id": "405f137c",
   "metadata": {},
   "outputs": [
    {
     "data": {
      "image/png": "[encoded data removed]",
      "text/plain": [
       "<Figure size 640x480 with 1 Axes>"
      ]
     },
     "metadata": {},
     "output_type": "display_data"
    }
   ],
   "source": [
    "epochs=range(1,11)\n",
    "plt.plot(epochs,train_epoch,'r',label='training_accuracy')\n",
    "plt.plot(epochs,test_epoch,'g',label='testing_accuracy')\n",
    "plt.title('Base model')\n",
    "plt.legend()\n",
    "plt.show()"
   ]
  },
  {
   "cell_type": "code",
   "execution_count": 83,
   "id": "1fbf1127",
   "metadata": {},
   "outputs": [
    {
     "name": "stdout",
     "output_type": "stream",
     "text": [
      "tensor(4)\n",
      "torch.Size([5])\n"
     ]
    }
   ],
   "source": [
    "#confmat=ConfusionMatrix(task='binary',num_classes=2)\n",
    "x_test,y_test=next(iter(testing_loader))\n",
    "y_pred=model(x_test)\n",
    "print((y_pred.round().reshape(-1)==y_test).sum())\n",
    "print(y_pred.shape)\n",
    "#confusion_matrix(y_prediction,Y_test)"
   ]
  },
  {
   "cell_type": "code",
   "execution_count": 2,
   "id": "c41b855a",
   "metadata": {},
   "outputs": [
    {
     "name": "stdout",
     "output_type": "stream",
     "text": [
      "macOS-12.3-arm64-arm-64bit\n"
     ]
    }
   ],
   "source": [
    "import platform\n",
    "print(platform.platform())"
   ]
  },
  {
   "cell_type": "markdown",
   "id": "b5b52ef1",
   "metadata": {},
   "source": [
    "# We got a 86.667% accurate model."
   ]
  },
  {
   "cell_type": "code",
   "execution_count": 219,
   "id": "e2423605",
   "metadata": {},
   "outputs": [
    {
     "data": {
      "text/plain": [
       "torch.Size([4])"
      ]
     },
     "execution_count": 219,
     "metadata": {},
     "output_type": "execute_result"
    }
   ],
   "source": [
    "testlabels.shape"
   ]
  },
  {
   "cell_type": "code",
   "execution_count": 325,
   "id": "7c4fe5b1",
   "metadata": {},
   "outputs": [
    {
     "data": {
      "text/plain": [
       "array([[99, 54],\n",
       "       [ 1,  0]])"
      ]
     },
     "execution_count": 325,
     "metadata": {},
     "output_type": "execute_result"
    }
   ],
   "source": [
    "confusion_matrix(y_pred.round().reshape(-1).detach(),y_test)"
   ]
  },
  {
   "cell_type": "code",
   "execution_count": 282,
   "id": "287119f6",
   "metadata": {},
   "outputs": [
    {
     "data": {
      "text/plain": [
       "31"
      ]
     },
     "execution_count": 282,
     "metadata": {},
     "output_type": "execute_result"
    }
   ],
   "source": [
    "len(testing_loader)"
   ]
  },
  {
   "cell_type": "code",
   "execution_count": 292,
   "id": "47e14f07",
   "metadata": {},
   "outputs": [
    {
     "data": {
      "text/plain": [
       "tensor([1., 0., 0., 0., 0.])"
      ]
     },
     "execution_count": 292,
     "metadata": {},
     "output_type": "execute_result"
    }
   ],
   "source": [
    "y_pred.round().reshape(-1).detach()"
   ]
  },
  {
   "cell_type": "code",
   "execution_count": 76,
   "id": "6f45f99c",
   "metadata": {},
   "outputs": [
    {
     "data": {
      "text/plain": [
       "77.0"
      ]
     },
     "execution_count": 76,
     "metadata": {},
     "output_type": "execute_result"
    }
   ],
   "source": [
    "y_test.size(dim=0)"
   ]
  },
  {
   "cell_type": "markdown",
   "id": "ea0e262c",
   "metadata": {},
   "source": [
    "# Part 2 Optimizing NN"
   ]
  },
  {
   "cell_type": "markdown",
   "id": "88c4ed7d",
   "metadata": {},
   "source": [
    "Let's start with dropout"
   ]
  },
  {
   "cell_type": "code",
   "execution_count": 70,
   "id": "c202cae2",
   "metadata": {},
   "outputs": [],
   "source": [
    "class NeuralNetwork(nn.Module):\n",
    "    def __init__(self):\n",
    "        super(NeuralNetwork,self).__init__()\n",
    "        self.flatten=nn.Flatten()\n",
    "        self.linear_relu_stack=nn.Sequential(\n",
    "            nn.Linear(1206,512),\n",
    "            nn.ReLU(),\n",
    "            nn.Dropout(0.25),\n",
    "            nn.Linear(512,256),\n",
    "            nn.ReLU(),\n",
    "            nn.Linear(256,256),\n",
    "            nn.ReLU(),\n",
    "            nn.Dropout(0.25),\n",
    "            nn.Linear(256,128),\n",
    "            nn.ReLU(),\n",
    "            nn.Dropout(0.25),\n",
    "            nn.Linear(128,128),\n",
    "            nn.ReLU(),\n",
    "            nn.Linear(128,64),\n",
    "            nn.ReLU(),\n",
    "            nn.Linear(64,64),\n",
    "            nn.ReLU(),\n",
    "            nn.Linear(64,1)\n",
    "        )\n",
    "        self.sigmoid=nn.Sigmoid()\n",
    "    def forward(self, x):\n",
    "        x = self.flatten(x)\n",
    "        logits = self.sigmoid(self.linear_relu_stack(x))\n",
    "        return torch.reshape(logits,(-1,))\n",
    "\n"
   ]
  },
  {
   "cell_type": "code",
   "execution_count": 71,
   "id": "60b63727",
   "metadata": {},
   "outputs": [
    {
     "name": "stdout",
     "output_type": "stream",
     "text": [
      "NeuralNetwork(\n",
      "  (flatten): Flatten(start_dim=1, end_dim=-1)\n",
      "  (linear_relu_stack): Sequential(\n",
      "    (0): Linear(in_features=1206, out_features=512, bias=True)\n",
      "    (1): ReLU()\n",
      "    (2): Dropout(p=0.25, inplace=False)\n",
      "    (3): Linear(in_features=512, out_features=256, bias=True)\n",
      "    (4): ReLU()\n",
      "    (5): Linear(in_features=256, out_features=256, bias=True)\n",
      "    (6): ReLU()\n",
      "    (7): Dropout(p=0.25, inplace=False)\n",
      "    (8): Linear(in_features=256, out_features=128, bias=True)\n",
      "    (9): ReLU()\n",
      "    (10): Dropout(p=0.25, inplace=False)\n",
      "    (11): Linear(in_features=128, out_features=128, bias=True)\n",
      "    (12): ReLU()\n",
      "    (13): Linear(in_features=128, out_features=64, bias=True)\n",
      "    (14): ReLU()\n",
      "    (15): Linear(in_features=64, out_features=64, bias=True)\n",
      "    (16): ReLU()\n",
      "    (17): Linear(in_features=64, out_features=1, bias=True)\n",
      "  )\n",
      "  (sigmoid): Sigmoid()\n",
      ")\n"
     ]
    }
   ],
   "source": [
    "model1 = NeuralNetwork().to(device) \n",
    "print(model1)"
   ]
  },
  {
   "cell_type": "code",
   "execution_count": 72,
   "id": "de58840b",
   "metadata": {},
   "outputs": [],
   "source": [
    "loss_fn= torch.nn.BCELoss()"
   ]
  },
  {
   "cell_type": "code",
   "execution_count": 73,
   "id": "df67b567",
   "metadata": {},
   "outputs": [],
   "source": [
    "optimizer = torch.optim.SGD(model1.parameters(), lr=0.01)"
   ]
  },
  {
   "cell_type": "code",
   "execution_count": 74,
   "id": "7e2a7afa",
   "metadata": {},
   "outputs": [],
   "source": [
    "\n",
    "\n",
    "def train_one_epoch(epoch_index):\n",
    "    running_loss = 0.\n",
    "    last_loss = 0.\n",
    "    num_correct=0\n",
    "    for i, data in enumerate(training_loader):\n",
    "        inputs, labels = data\n",
    "        optimizer.zero_grad()\n",
    "        outputs = model1(inputs)\n",
    "        loss = loss_fn(outputs, labels)\n",
    "        loss.backward()\n",
    "        optimizer.step()\n",
    "        running_loss += loss.item()\n",
    "        predictions=(outputs>=0.5)\n",
    "        num_correct+=(predictions==labels).sum()\n",
    "#         if i % 20 == 19:\n",
    "#             last_loss = running_loss/19  \n",
    "# #            print('  batch {} loss: {}'.format(i + 1, last_loss))\n",
    "# #             tb_x = epoch_index * len(training_loader) + i + 1\n",
    "# #             tb_writer.add_scalar('Loss/train', last_loss, tb_x)\n",
    "#             running_loss = 0\n",
    "    return [running_loss,num_correct]"
   ]
  },
  {
   "cell_type": "code",
   "execution_count": 75,
   "id": "b8386466",
   "metadata": {},
   "outputs": [
    {
     "name": "stdout",
     "output_type": "stream",
     "text": [
      "current epoch is 1\n",
      "training loss is 83.18215781450272\n",
      "current epoch is 2\n",
      "training loss is 80.98051136732101\n",
      "current epoch is 3\n",
      "training loss is 80.26014223694801\n",
      "current epoch is 4\n",
      "training loss is 79.93876883387566\n",
      "current epoch is 5\n",
      "training loss is 79.63522580265999\n",
      "current epoch is 6\n",
      "training loss is 79.74299135804176\n",
      "current epoch is 7\n",
      "training loss is 79.55480355024338\n",
      "current epoch is 8\n",
      "training loss is 79.53055199980736\n",
      "current epoch is 9\n",
      "training loss is 79.52616104483604\n",
      "current epoch is 10\n",
      "training loss is 79.52743822336197\n",
      "tensor(0.4332, grad_fn=<DivBackward0>)\n",
      "tensor(100)\n",
      "[100, 100, 100, 100, 100, 100, 100, 100, 100, 100]\n",
      "tensor(100.)\n"
     ]
    }
   ],
   "source": [
    "testing_best_loss=100000000\n",
    "epoch_current=1\n",
    "epochs=10\n",
    "num_correct=0\n",
    "num_samples=0\n",
    "test_epoch=[]\n",
    "train_epoch=[]\n",
    "y_prediction=[]\n",
    "y_true=[]\n",
    "for epoch in range(epochs):\n",
    "    num_correct=0\n",
    "    num_samples=0\n",
    "    print(f'current epoch is {epoch_current}')\n",
    "    model1.train(True)\n",
    "    ans=train_one_epoch(epoch_current)\n",
    "    model1.train(False)\n",
    "    print(f'training loss is {ans[0]}')\n",
    "    testing_loss=0\n",
    "    total_testing_loss=0\n",
    "    for i,testdata in enumerate(testing_loader):\n",
    "        testinputs,testlabels=testdata\n",
    "        testoutputs=model1(testinputs)\n",
    "        testloss=loss_fn(testoutputs,testlabels)\n",
    "        total_testing_loss+=testloss\n",
    "        avg_testing_loss=total_testing_loss/(i+1)\n",
    "        predictions=(testoutputs>=0.5)\n",
    "        num_correct+=(predictions==testlabels).sum()\n",
    "        num_samples+=predictions.size(0)\n",
    "        if (avg_testing_loss<testing_best_loss):\n",
    "            testing_best_loss=avg_testing_loss\n",
    "            best_model=model1.state_dict()\n",
    "            predictions=(testoutputs>0.5)\n",
    "            correct_ones=((predictions==testlabels).sum())/(testlabels.size(dim=0))\n",
    "    test_epoch.append(num_correct.item())\n",
    "    train_epoch.append(ans[1])\n",
    "    epoch_current+=1\n",
    "# for i,testdata in enumerate(testing_loader):\n",
    "#     testinputs,testlabels=testdata\n",
    "#     testoutputs=best_model(testinputs)\n",
    "#     predictions=(testoutputs>0.5)\n",
    "#     num_correct_final+=(predictions==testlabels).sum()\n",
    "    \n",
    "print(testing_best_loss)\n",
    "print(num_correct)\n",
    "print(test_epoch)\n",
    "print(correct_ones*100)\n",
    "# torch.save(best_model,f'NN_part1.h5') "
   ]
  },
  {
   "cell_type": "markdown",
   "id": "cb6356a4",
   "metadata": {},
   "source": [
    "Next fine tuning the Adam optimizer"
   ]
  },
  {
   "cell_type": "code",
   "execution_count": 76,
   "id": "7de44089",
   "metadata": {},
   "outputs": [],
   "source": [
    "test_epoch=[ele/120 for ele in test_epoch]\n",
    "\n",
    "train_epoch=[ele/600 for ele in train_epoch]"
   ]
  },
  {
   "cell_type": "code",
   "execution_count": 77,
   "id": "62357f8b",
   "metadata": {},
   "outputs": [
    {
     "data": {
      "image/png": "[encoded data removed]",
      "text/plain": [
       "<Figure size 640x480 with 1 Axes>"
      ]
     },
     "metadata": {},
     "output_type": "display_data"
    }
   ],
   "source": [
    "epochs=range(1,11)\n",
    "plt.plot(epochs,train_epoch,'r',label='training_accuracy')\n",
    "plt.plot(epochs,test_epoch,'g',label='testing_accuracy')\n",
    "plt.title('Dropout model')\n",
    "plt.legend()\n",
    "plt.show()"
   ]
  },
  {
   "cell_type": "code",
   "execution_count": 82,
   "id": "884bbb43",
   "metadata": {},
   "outputs": [],
   "source": [
    "optimizer=torch.optim.Adam(model1.parameters(),lr=0.0001)"
   ]
  },
  {
   "cell_type": "code",
   "execution_count": 347,
   "id": "851ae4ad",
   "metadata": {},
   "outputs": [
    {
     "name": "stdout",
     "output_type": "stream",
     "text": [
      "tensor(12.0612, grad_fn=<DivBackward0>)\n",
      "tensor(87)\n",
      "[tensor(88), tensor(88), tensor(88), tensor(88), tensor(88), tensor(88), tensor(88), tensor(88), tensor(88), tensor(87)]\n",
      "154\n"
     ]
    }
   ],
   "source": [
    "print(testing_best_loss)\n",
    "print(num_correct)\n",
    "print(correct_epoch)\n",
    "print(num_samples)"
   ]
  },
  {
   "cell_type": "markdown",
   "id": "94ba3310",
   "metadata": {},
   "source": [
    "Next fine tuning the Activation Function\n",
    "\n",
    "We have used sigmoid activation function let's use the softmax with two classes"
   ]
  },
  {
   "cell_type": "code",
   "execution_count": 93,
   "id": "d8c03f28",
   "metadata": {},
   "outputs": [],
   "source": [
    "# class NeuralNetwork(nn.Module):\n",
    "#     def __init__(self):\n",
    "#         super(NeuralNetwork,self).__init__()\n",
    "#         self.flatten=nn.Flatten()\n",
    "#         self.layer1=nn.Linear(1206,256)\n",
    "#         self.act1=nn.ReLU()\n",
    "#         self.dropout1=nn.Dropout(0.25)\n",
    "#         self.layer2=nn.Linear(256,256)\n",
    "#         self.act2=nn.ReLU()\n",
    "#         self.dropout2=nn.Dropout(0.25)\n",
    "#         self.layer3=nn.Linear(256,256)\n",
    "#         self.act3=nn.ReLU()\n",
    "#         self.layer4=nn.Linear(256,2)\n",
    "#     def forward(self, x):\n",
    "#         x = self.flatten(x)\n",
    "#         x=self.act1(self.layer1(x))\n",
    "#         x=self.dropout1(x)\n",
    "#         x=self.act2(self.layer2(x))\n",
    "#         x=self.dropout2(x)\n",
    "#         x=self.act3(self.layer3(x))\n",
    "#         logits = self.sigmoid(self.layer2(x))\n",
    "#         logits=torch.reshape(logits,(-1,))\n",
    "#         y_pred=nn.softmax(dim=1)(logits)\n",
    "#         return y_pred.argmax(1)\n",
    "\n",
    "class NeuralNetwork(nn.Module):\n",
    "    def __init__(self):\n",
    "        super(NeuralNetwork,self).__init__()\n",
    "        self.flatten=nn.Flatten()\n",
    "        self.linear_relu_stack=nn.Sequential(\n",
    "            nn.Linear(1206,512),\n",
    "            nn.Sigmoid(),\n",
    "            nn.Dropout(0.25),\n",
    "            nn.Linear(512,256),\n",
    "            nn.Sigmoid(),\n",
    "            nn.Linear(256,256),\n",
    "            nn.Sigmoid(),\n",
    "            nn.Dropout(0.25),\n",
    "            nn.Linear(256,128),\n",
    "            nn.Sigmoid(),\n",
    "            nn.Dropout(0.25),\n",
    "            nn.Linear(128,128),\n",
    "            nn.Sigmoid(),\n",
    "            nn.Linear(128,64),\n",
    "            nn.Sigmoid(),\n",
    "            nn.Linear(64,64),\n",
    "            nn.Sigmoid(),\n",
    "            nn.Linear(64,1)\n",
    "        )\n",
    "        self.sigmoid=nn.Sigmoid()\n",
    "    def forward(self, x):\n",
    "        x = self.flatten(x)\n",
    "        logits = self.sigmoid(self.linear_relu_stack(x))\n",
    "        return torch.reshape(logits,(-1,))"
   ]
  },
  {
   "cell_type": "code",
   "execution_count": 97,
   "id": "16adc9f8",
   "metadata": {},
   "outputs": [
    {
     "name": "stdout",
     "output_type": "stream",
     "text": [
      "NeuralNetwork(\n",
      "  (flatten): Flatten(start_dim=1, end_dim=-1)\n",
      "  (linear_relu_stack): Sequential(\n",
      "    (0): Linear(in_features=1206, out_features=512, bias=True)\n",
      "    (1): Sigmoid()\n",
      "    (2): Dropout(p=0.25, inplace=False)\n",
      "    (3): Linear(in_features=512, out_features=256, bias=True)\n",
      "    (4): Sigmoid()\n",
      "    (5): Linear(in_features=256, out_features=256, bias=True)\n",
      "    (6): Sigmoid()\n",
      "    (7): Dropout(p=0.25, inplace=False)\n",
      "    (8): Linear(in_features=256, out_features=128, bias=True)\n",
      "    (9): Sigmoid()\n",
      "    (10): Dropout(p=0.25, inplace=False)\n",
      "    (11): Linear(in_features=128, out_features=128, bias=True)\n",
      "    (12): Sigmoid()\n",
      "    (13): Linear(in_features=128, out_features=64, bias=True)\n",
      "    (14): Sigmoid()\n",
      "    (15): Linear(in_features=64, out_features=64, bias=True)\n",
      "    (16): Sigmoid()\n",
      "    (17): Linear(in_features=64, out_features=1, bias=True)\n",
      "  )\n",
      "  (sigmoid): Sigmoid()\n",
      ")\n"
     ]
    }
   ],
   "source": [
    "model2=NeuralNetwork().to(device)\n",
    "print(model2)"
   ]
  },
  {
   "cell_type": "code",
   "execution_count": 98,
   "id": "63cf338e",
   "metadata": {},
   "outputs": [],
   "source": [
    "def train_one_epoch(epoch_index):\n",
    "    running_loss = 0.\n",
    "    last_loss = 0.\n",
    "    num_correct=0\n",
    "    for i, data in enumerate(training_loader):\n",
    "        inputs, labels = data\n",
    "        optimizer.zero_grad()\n",
    "        outputs = model2(inputs)\n",
    "        loss = loss_fn(outputs, labels)\n",
    "        loss.backward()\n",
    "        optimizer.step()\n",
    "        running_loss += loss.item()\n",
    "        predictions=(outputs>=0.5)\n",
    "        num_correct+=(predictions==labels).sum()\n",
    "#         if i % 1 == 0:\n",
    "#             last_loss = running_loss  \n",
    "# #            print('  batch {} loss: {}'.format(i + 1, last_loss))\n",
    "# #             tb_x = epoch_index * len(training_loader) + i + 1\n",
    "# #             tb_writer.add_scalar('Loss/train', last_loss, tb_x)\n",
    "#             running_loss = 0\n",
    "    return [running_loss,num_correct]"
   ]
  },
  {
   "cell_type": "code",
   "execution_count": 99,
   "id": "a0085672",
   "metadata": {},
   "outputs": [
    {
     "name": "stdout",
     "output_type": "stream",
     "text": [
      "current epoch is 1\n",
      "training loss is 79.88311877846718\n",
      "current epoch is 2\n",
      "training loss is 79.73528149724007\n",
      "current epoch is 3\n",
      "training loss is 80.03014302253723\n",
      "current epoch is 4\n",
      "training loss is 79.88618221879005\n",
      "current epoch is 5\n",
      "training loss is 79.88396954536438\n",
      "current epoch is 6\n",
      "training loss is 79.73727402091026\n",
      "current epoch is 7\n",
      "training loss is 79.8855028450489\n",
      "current epoch is 8\n",
      "training loss is 79.73710405826569\n",
      "current epoch is 9\n",
      "training loss is 79.73631423711777\n",
      "current epoch is 10\n",
      "training loss is 79.88551068305969\n",
      "tensor(0.4766, grad_fn=<DivBackward0>)\n",
      "tensor(100)\n",
      "[100, 100, 100, 100, 100, 100, 100, 100, 100, 100]\n",
      "tensor(100.)\n"
     ]
    }
   ],
   "source": [
    "testing_best_loss=100000000\n",
    "epoch_current=1\n",
    "epochs=10\n",
    "num_correct=0\n",
    "num_samples=0\n",
    "test_epoch=[]\n",
    "train_epoch=[]\n",
    "y_prediction=[]\n",
    "y_true=[]\n",
    "for epoch in range(epochs):\n",
    "    num_correct=0\n",
    "    num_samples=0\n",
    "    print(f'current epoch is {epoch_current}')\n",
    "    model2.train(True)\n",
    "    ans=train_one_epoch(epoch_current)\n",
    "    model2.train(False)\n",
    "    print(f'training loss is {ans[0]}')\n",
    "    testing_loss=0\n",
    "    total_testing_loss=0\n",
    "    for i,testdata in enumerate(testing_loader):\n",
    "        testinputs,testlabels=testdata\n",
    "        testoutputs=model2(testinputs)\n",
    "        testloss=loss_fn(testoutputs,testlabels)\n",
    "        total_testing_loss+=testloss\n",
    "        avg_testing_loss=total_testing_loss/(i+1)\n",
    "        predictions=(testoutputs>=0.5)\n",
    "        num_correct+=(predictions==testlabels).sum()\n",
    "        num_samples+=predictions.size(0)\n",
    "        if (avg_testing_loss<testing_best_loss):\n",
    "            testing_best_loss=avg_testing_loss\n",
    "            best_model=model2.state_dict()\n",
    "            predictions=(testoutputs>0.5)\n",
    "            correct_ones=((predictions==testlabels).sum())/(testlabels.size(dim=0))\n",
    "    test_epoch.append(num_correct.item())\n",
    "    train_epoch.append(ans[1])\n",
    "    epoch_current+=1\n",
    "# for i,testdata in enumerate(testing_loader):\n",
    "#     testinputs,testlabels=testdata\n",
    "#     testoutputs=best_model(testinputs)\n",
    "#     predictions=(testoutputs>0.5)\n",
    "#     num_correct_final+=(predictions==testlabels).sum()\n",
    "    \n",
    "print(testing_best_loss)\n",
    "print(num_correct)\n",
    "print(test_epoch)\n",
    "print(correct_ones*100)"
   ]
  },
  {
   "cell_type": "code",
   "execution_count": 101,
   "id": "65d22c32",
   "metadata": {},
   "outputs": [],
   "source": [
    "test_epoch=[ele/120 for ele in test_epoch]"
   ]
  },
  {
   "cell_type": "code",
   "execution_count": 100,
   "id": "06fc27a5",
   "metadata": {},
   "outputs": [],
   "source": [
    "train_epoch=[ele/600 for ele in train_epoch]"
   ]
  },
  {
   "cell_type": "code",
   "execution_count": 109,
   "id": "ce971e5d",
   "metadata": {},
   "outputs": [
    {
     "data": {
      "image/png": "[encoded data removed]",
      "text/plain": [
       "<Figure size 640x480 with 1 Axes>"
      ]
     },
     "metadata": {},
     "output_type": "display_data"
    }
   ],
   "source": [
    "epochs = range(1, 11)\n",
    "\n",
    "plt.plot(epochs, training_acc, 'g', label='Training Accuracy')\n",
    "plt.plot(epochs, testing_acc, 'b', label='Testing Accuracy')\n",
    "\n",
    "\n",
    "plt.xlabel('Epochs')\n",
    "plt.title('Xavier initializer')\n",
    "plt.ylim(0.5, 1.0)\n",
    "\n",
    "\n",
    "plt.legend()\n",
    "\n",
    "plt.show()\n"
   ]
  },
  {
   "cell_type": "markdown",
   "id": "7648d2a1",
   "metadata": {},
   "source": [
    "Next fine tuning the loss function\n",
    "\n",
    "We are picking the PoissonNLL loss function instead of the binary cross entropy function.\n"
   ]
  },
  {
   "cell_type": "code",
   "execution_count": 367,
   "id": "ed6655a3",
   "metadata": {},
   "outputs": [],
   "source": [
    "loss_fn=torch.nn.PoissonNLLLoss()"
   ]
  },
  {
   "cell_type": "code",
   "execution_count": 359,
   "id": "27ab0413",
   "metadata": {},
   "outputs": [
    {
     "name": "stdout",
     "output_type": "stream",
     "text": [
      "NeuralNetwork(\n",
      "  (flatten): Flatten(start_dim=1, end_dim=-1)\n",
      "  (layer1): Linear(in_features=1206, out_features=256, bias=True)\n",
      "  (act1): ReLU()\n",
      "  (dropout1): Dropout(p=0.25, inplace=False)\n",
      "  (layer2): Linear(in_features=256, out_features=256, bias=True)\n",
      "  (act2): ReLU()\n",
      "  (dropout2): Dropout(p=0.25, inplace=False)\n",
      "  (layer3): Linear(in_features=256, out_features=256, bias=True)\n",
      "  (act3): ReLU()\n",
      "  (layer4): Linear(in_features=256, out_features=2, bias=True)\n",
      ")\n"
     ]
    }
   ],
   "source": [
    "model3=NeuralNetwork().to(device)\n",
    "print(model3)"
   ]
  },
  {
   "cell_type": "code",
   "execution_count": 370,
   "id": "86c09614",
   "metadata": {},
   "outputs": [
    {
     "name": "stdout",
     "output_type": "stream",
     "text": [
      "tensor(1.3684, grad_fn=<DivBackward0>)\n",
      "tensor(88)\n",
      "[tensor(88), tensor(88), tensor(88), tensor(88), tensor(88), tensor(88), tensor(88), tensor(88), tensor(88), tensor(88)]\n",
      "154\n"
     ]
    }
   ],
   "source": [
    "print(testing_best_loss)\n",
    "print(num_correct)\n",
    "print(correct_epoch)\n",
    "print(num_samples)"
   ]
  },
  {
   "cell_type": "code",
   "execution_count": 144,
   "id": "99bfb23e",
   "metadata": {},
   "outputs": [],
   "source": [
    "def train_one_epoch(epoch_index):\n",
    "    running_loss = 0.\n",
    "    last_loss = 0.\n",
    "    for i, data in enumerate(training_loader):\n",
    "        inputs, labels = data\n",
    "        optimizer.zero_grad()\n",
    "        outputs = model4(inputs)\n",
    "        loss = loss_fn(outputs, labels)\n",
    "        loss.backward()\n",
    "        optimizer.step()\n",
    "        running_loss += loss.item()\n",
    "        if i % 20 == 19:\n",
    "            last_loss = running_loss  \n",
    "#            print('  batch {} loss: {}'.format(i + 1, last_loss))\n",
    "#             tb_x = epoch_index * len(training_loader) + i + 1\n",
    "#             tb_writer.add_scalar('Loss/train', last_loss, tb_x)\n",
    "            running_loss = 0\n",
    "    return last_loss"
   ]
  },
  {
   "cell_type": "markdown",
   "id": "644ce36e",
   "metadata": {},
   "source": [
    "Using Xavier initialization as the 4th change in hyperparameter "
   ]
  },
  {
   "cell_type": "code",
   "execution_count": 137,
   "id": "dfbf44f1",
   "metadata": {},
   "outputs": [],
   "source": [
    "class NeuralNetwork(nn.Module):\n",
    "    def __init__(self):\n",
    "        super(NeuralNetwork,self).__init__()\n",
    "        self.flatten=nn.Flatten()\n",
    "        self.layer1=nn.Linear(1206,512)\n",
    "        nn.init.xavier_normal_(self.layer1.weight)\n",
    "        self.act1=nn.ReLU()\n",
    "        self.dropout1=nn.Dropout(0.25)\n",
    "        self.layer2=nn.Linear(512,256)\n",
    "        nn.init.xavier_normal_(self.layer2.weight)\n",
    "        self.act2=nn.ReLU()\n",
    "        self.dropout2=nn.Dropout(0.25)\n",
    "        self.layer3=nn.Linear(256,256)\n",
    "        nn.init.xavier_normal_(self.layer3.weight)\n",
    "        self.act3=nn.ReLU()\n",
    "        self.dropout3=nn.Dropout(0.25)\n",
    "        self.layer4=nn.Linear(256,128)\n",
    "        self.act4=nn.ReLU()\n",
    "        nn.init.xavier_normal_(self.layer4.weight)\n",
    "        self.dropout4=nn.Dropout(0.25)\n",
    "        self.layer5=nn.Linear(128,128)\n",
    "        self.act5=nn.ReLU()\n",
    "        nn.init.xavier_normal_(self.layer5.weight)\n",
    "        self.dropout5=nn.Dropout(0.25)\n",
    "        self.layer6=nn.Linear(128,64)\n",
    "        self.act6=nn.ReLU()\n",
    "        nn.init.xavier_normal_(self.layer6.weight)\n",
    "        self.dropout6=nn.Dropout(0.25)\n",
    "        self.layer7=nn.Linear(64,64)\n",
    "        self.act7=nn.ReLU()\n",
    "        nn.init.xavier_normal_(self.layer7.weight)\n",
    "        self.dropout7=nn.Dropout(0.25)\n",
    "        self.layer8=nn.Linear(64,1)\n",
    "        nn.init.xavier_normal_(self.layer8.weight)\n",
    "        self.sigmoid=nn.Sigmoid()\n",
    "    def forward(self, x):\n",
    "        x = self.flatten(x)\n",
    "        x=self.act1(self.layer1(x))\n",
    "        x=self.dropout1(x)\n",
    "        x=self.act2(self.layer2(x))\n",
    "        x=self.dropout2(x)\n",
    "        x=self.act3(self.layer3(x))\n",
    "        x=self.dropout3(x)\n",
    "        x=self.act4(self.layer4(x))\n",
    "        x=self.dropout4(x)\n",
    "        x=self.act5(self.layer5(x))\n",
    "        x=self.dropout5(x)\n",
    "        x=self.act6(self.layer6(x))\n",
    "        x=self.dropout6(x)\n",
    "        x=self.act7(self.layer7(x))\n",
    "        x=self.dropout7(x)\n",
    "        x=self.layer8(x)\n",
    "        logits = self.sigmoid(x)\n",
    "        return torch.reshape(logits,(-1,))"
   ]
  },
  {
   "cell_type": "code",
   "execution_count": 138,
   "id": "39db234a",
   "metadata": {},
   "outputs": [
    {
     "name": "stdout",
     "output_type": "stream",
     "text": [
      "NeuralNetwork(\n",
      "  (flatten): Flatten(start_dim=1, end_dim=-1)\n",
      "  (layer1): Linear(in_features=1206, out_features=512, bias=True)\n",
      "  (act1): ReLU()\n",
      "  (dropout1): Dropout(p=0.25, inplace=False)\n",
      "  (layer2): Linear(in_features=512, out_features=256, bias=True)\n",
      "  (act2): ReLU()\n",
      "  (dropout2): Dropout(p=0.25, inplace=False)\n",
      "  (layer3): Linear(in_features=256, out_features=256, bias=True)\n",
      "  (act3): ReLU()\n",
      "  (dropout3): Dropout(p=0.25, inplace=False)\n",
      "  (layer4): Linear(in_features=256, out_features=128, bias=True)\n",
      "  (act4): ReLU()\n",
      "  (dropout4): Dropout(p=0.25, inplace=False)\n",
      "  (layer5): Linear(in_features=128, out_features=128, bias=True)\n",
      "  (act5): ReLU()\n",
      "  (dropout5): Dropout(p=0.25, inplace=False)\n",
      "  (layer6): Linear(in_features=128, out_features=64, bias=True)\n",
      "  (act6): ReLU()\n",
      "  (dropout6): Dropout(p=0.25, inplace=False)\n",
      "  (layer7): Linear(in_features=64, out_features=64, bias=True)\n",
      "  (act7): ReLU()\n",
      "  (dropout7): Dropout(p=0.25, inplace=False)\n",
      "  (layer8): Linear(in_features=64, out_features=1, bias=True)\n",
      "  (sigmoid): Sigmoid()\n",
      ")\n"
     ]
    }
   ],
   "source": [
    "model4=NeuralNetwork().to(device)\n",
    "print(model4)"
   ]
  },
  {
   "cell_type": "code",
   "execution_count": 145,
   "id": "e6562017",
   "metadata": {},
   "outputs": [
    {
     "name": "stdout",
     "output_type": "stream",
     "text": [
      "current epoch is 1\n",
      "training loss is 15.816173017024994\n",
      "current epoch is 2\n",
      "training loss is 14.783052921295166\n",
      "current epoch is 3\n",
      "training loss is 14.6833136677742\n",
      "current epoch is 4\n",
      "training loss is 14.832689702510834\n",
      "current epoch is 5\n",
      "training loss is 15.187586605548859\n",
      "current epoch is 6\n",
      "training loss is 15.71987771987915\n",
      "current epoch is 7\n",
      "training loss is 15.061310887336731\n",
      "current epoch is 8\n",
      "training loss is 15.07891172170639\n",
      "current epoch is 9\n",
      "training loss is 15.10769635438919\n",
      "current epoch is 10\n",
      "training loss is 16.369083285331726\n",
      "tensor(0.7303, grad_fn=<DivBackward0>)\n",
      "tensor(54)\n",
      "[tensor(54), tensor(54), tensor(54), tensor(54), tensor(54), tensor(54), tensor(54), tensor(54), tensor(54), tensor(54)]\n",
      "tensor(40.)\n"
     ]
    }
   ],
   "source": [
    "testing_best_loss=100000000\n",
    "epoch_current=1\n",
    "epochs=10\n",
    "num_correct=0\n",
    "num_samples=0\n",
    "correct_epoch=[]\n",
    "y_prediction=[]\n",
    "y_true=[]\n",
    "for epoch in range(epochs):\n",
    "    num_correct=0\n",
    "    num_samples=0\n",
    "    print(f'current epoch is {epoch_current}')\n",
    "    model4.train(True)\n",
    "    train_loss=train_one_epoch(epoch_current)\n",
    "    model4.train(False)\n",
    "    print(f'training loss is {train_loss}')\n",
    "    testing_loss=0\n",
    "    total_testing_loss=0\n",
    "    for i,testdata in enumerate(testing_loader):\n",
    "        testinputs,testlabels=testdata\n",
    "        testoutputs=model4(testinputs)\n",
    "        testloss=loss_fn(testoutputs,testlabels)\n",
    "        total_testing_loss+=testloss\n",
    "        avg_testing_loss=total_testing_loss/(i+1)\n",
    "        predictions=(testoutputs>=0.5)\n",
    "        num_correct+=(predictions==testlabels).sum()\n",
    "        num_samples+=predictions.size(0)\n",
    "        if (avg_testing_loss<testing_best_loss):\n",
    "            testing_best_loss=avg_testing_loss\n",
    "            best_model=model4.state_dict()\n",
    "            predictions=(testoutputs>0.5)\n",
    "            correct_ones=((predictions==testlabels).sum())/(testlabels.size(dim=0))\n",
    "    correct_epoch.append(num_correct)\n",
    "    epoch_current+=1\n",
    "# for i,testdata in enumerate(testing_loader):\n",
    "#     testinputs,testlabels=testdata\n",
    "#     testoutputs=best_model(testinputs)\n",
    "#     predictions=(testoutputs>0.5)\n",
    "#     num_correct_final+=(predictions==testlabels).sum()\n",
    "    \n",
    "print(testing_best_loss)\n",
    "print(num_correct)\n",
    "print(correct_epoch)\n",
    "print(correct_ones*100)"
   ]
  },
  {
   "cell_type": "markdown",
   "id": "6ccf68e7",
   "metadata": {},
   "source": [
    "Let's try kaming initalization "
   ]
  },
  {
   "cell_type": "code",
   "execution_count": 182,
   "id": "5c8dd8a1",
   "metadata": {},
   "outputs": [],
   "source": [
    "class NeuralNetwork(nn.Module):\n",
    "    def __init__(self):\n",
    "        super(NeuralNetwork,self).__init__()\n",
    "        self.flatten=nn.Flatten()\n",
    "        self.layer1=nn.Linear(1206,512)\n",
    "        nn.init.xavier_normal_(self.layer1.weight)\n",
    "        self.act1=nn.ReLU()\n",
    "        self.dropout1=nn.Dropout(0.25)\n",
    "        self.layer2=nn.Linear(512,256)\n",
    "        nn.init.xavier_normal_(self.layer2.weight)\n",
    "        self.act2=nn.ReLU()\n",
    "        self.dropout2=nn.Dropout(0.25)\n",
    "        self.layer3=nn.Linear(256,256)\n",
    "        nn.init.xavier_normal_(self.layer3.weight)\n",
    "        self.act3=nn.ReLU()\n",
    "        self.dropout3=nn.Dropout(0.25)\n",
    "        self.layer4=nn.Linear(256,128)\n",
    "        self.act4=nn.ReLU()\n",
    "        nn.init.xavier_normal_(self.layer4.weight)\n",
    "        self.dropout4=nn.Dropout(0.25)\n",
    "        self.layer5=nn.Linear(128,128)\n",
    "        self.act5=nn.ReLU()\n",
    "        nn.init.xavier_normal_(self.layer5.weight)\n",
    "        self.dropout5=nn.Dropout(0.25)\n",
    "        self.layer6=nn.Linear(128,64)\n",
    "        self.act6=nn.ReLU()\n",
    "        nn.init.xavier_normal_(self.layer6.weight)\n",
    "        self.dropout6=nn.Dropout(0.25)\n",
    "        self.layer7=nn.Linear(64,64)\n",
    "        self.act7=nn.ReLU()\n",
    "        nn.init.xavier_normal_(self.layer7.weight)\n",
    "        self.dropout7=nn.Dropout(0.25)\n",
    "        self.layer8=nn.Linear(64,1)\n",
    "        nn.init.xavier_normal_(self.layer8.weight)\n",
    "        self.sigmoid=nn.Sigmoid()\n",
    "    def forward(self, x):\n",
    "        x = self.flatten(x)\n",
    "        x=self.act1(self.layer1(x))\n",
    "        x=self.dropout1(x)\n",
    "        x=self.act2(self.layer2(x))\n",
    "        x=self.dropout2(x)\n",
    "        x=self.act3(self.layer3(x))\n",
    "        x=self.dropout3(x)\n",
    "        x=self.act4(self.layer4(x))\n",
    "        x=self.dropout4(x)\n",
    "        x=self.act5(self.layer5(x))\n",
    "        x=self.dropout5(x)\n",
    "        x=self.act6(self.layer6(x))\n",
    "        x=self.dropout6(x)\n",
    "        x=self.act7(self.layer7(x))\n",
    "        x=self.dropout7(x)\n",
    "        x=self.layer8(x)\n",
    "        logits = self.sigmoid(x)\n",
    "        return torch.reshape(logits,(-1,))"
   ]
  },
  {
   "cell_type": "code",
   "execution_count": 183,
   "id": "2b6b34ed",
   "metadata": {},
   "outputs": [
    {
     "name": "stdout",
     "output_type": "stream",
     "text": [
      "NeuralNetwork(\n",
      "  (flatten): Flatten(start_dim=1, end_dim=-1)\n",
      "  (layer1): Linear(in_features=1206, out_features=512, bias=True)\n",
      "  (act1): ReLU()\n",
      "  (dropout1): Dropout(p=0.25, inplace=False)\n",
      "  (layer2): Linear(in_features=512, out_features=256, bias=True)\n",
      "  (act2): ReLU()\n",
      "  (dropout2): Dropout(p=0.25, inplace=False)\n",
      "  (layer3): Linear(in_features=256, out_features=256, bias=True)\n",
      "  (act3): ReLU()\n",
      "  (dropout3): Dropout(p=0.25, inplace=False)\n",
      "  (layer4): Linear(in_features=256, out_features=128, bias=True)\n",
      "  (act4): ReLU()\n",
      "  (dropout4): Dropout(p=0.25, inplace=False)\n",
      "  (layer5): Linear(in_features=128, out_features=128, bias=True)\n",
      "  (act5): ReLU()\n",
      "  (dropout5): Dropout(p=0.25, inplace=False)\n",
      "  (layer6): Linear(in_features=128, out_features=64, bias=True)\n",
      "  (act6): ReLU()\n",
      "  (dropout6): Dropout(p=0.25, inplace=False)\n",
      "  (layer7): Linear(in_features=64, out_features=64, bias=True)\n",
      "  (act7): ReLU()\n",
      "  (dropout7): Dropout(p=0.25, inplace=False)\n",
      "  (layer8): Linear(in_features=64, out_features=1, bias=True)\n",
      "  (sigmoid): Sigmoid()\n",
      ")\n"
     ]
    }
   ],
   "source": [
    "model5=NeuralNetwork().to(device)\n",
    "print(model5)"
   ]
  },
  {
   "cell_type": "code",
   "execution_count": 184,
   "id": "d8d04aed",
   "metadata": {},
   "outputs": [],
   "source": [
    "optimizer=torch.optim.Adam(model5.parameters(),lr=0.0001)"
   ]
  },
  {
   "cell_type": "code",
   "execution_count": 185,
   "id": "38e678c5",
   "metadata": {},
   "outputs": [],
   "source": [
    "def train_one_epoch(epoch_index):\n",
    "    running_loss = 0.\n",
    "    last_loss = 0.\n",
    "    for i, data in enumerate(training_loader):\n",
    "        inputs, labels = data\n",
    "        optimizer.zero_grad()\n",
    "        outputs = model5(inputs)\n",
    "        loss = loss_fn(outputs, labels)\n",
    "        loss.backward()\n",
    "        optimizer.step()\n",
    "        running_loss += loss.item()\n",
    "        if i % 20 == 19:\n",
    "            last_loss = running_loss/19  \n",
    "#            print('  batch {} loss: {}'.format(i + 1, last_loss))\n",
    "#             tb_x = epoch_index * len(training_loader) + i + 1\n",
    "#             tb_writer.add_scalar('Loss/train', last_loss, tb_x)\n",
    "            running_loss = 0\n",
    "    return last_loss"
   ]
  },
  {
   "cell_type": "code",
   "execution_count": 186,
   "id": "81fbd2de",
   "metadata": {},
   "outputs": [
    {
     "name": "stdout",
     "output_type": "stream",
     "text": [
      "current epoch is 1\n",
      "training loss is 0.7781985292309209\n",
      "current epoch is 2\n",
      "training loss is 0.7072105360658545\n",
      "current epoch is 3\n",
      "training loss is 0.7149259714703811\n",
      "current epoch is 4\n",
      "training loss is 0.6520158977884996\n",
      "current epoch is 5\n",
      "training loss is 0.7526882165356686\n",
      "current epoch is 6\n",
      "training loss is 0.651555669935126\n",
      "current epoch is 7\n",
      "training loss is 0.6448096962351548\n",
      "current epoch is 8\n",
      "training loss is 0.6398639835809407\n",
      "current epoch is 9\n",
      "training loss is 0.5256085356599406\n",
      "current epoch is 10\n",
      "training loss is 0.5742594521296652\n",
      "current epoch is 11\n",
      "training loss is 0.49647403312356847\n",
      "current epoch is 12\n",
      "training loss is 0.43340559421401276\n",
      "current epoch is 13\n",
      "training loss is 0.26172586108900997\n",
      "current epoch is 14\n",
      "training loss is 0.19967365528971545\n",
      "current epoch is 15\n",
      "training loss is 0.13313475844303244\n",
      "current epoch is 16\n",
      "training loss is 0.052175509058686564\n",
      "current epoch is 17\n",
      "training loss is 0.011208456112255686\n",
      "current epoch is 18\n",
      "training loss is 0.02243694157138969\n",
      "current epoch is 19\n",
      "training loss is 0.12818735883430285\n",
      "current epoch is 20\n",
      "training loss is 0.02761084837842837\n",
      "final time=0.473193883895874\n",
      "tensor(0.1068, grad_fn=<DivBackward0>)\n",
      "tensor(96)\n",
      "[tensor(100), tensor(100), tensor(100), tensor(100), tensor(100), tensor(100), tensor(99), tensor(99), tensor(99), tensor(98), tensor(103), tensor(95), tensor(97), tensor(102), tensor(95), tensor(99), tensor(98), tensor(95), tensor(95), tensor(96)]\n",
      "tensor(100.)\n"
     ]
    }
   ],
   "source": [
    "testing_best_loss=100000000\n",
    "epoch_current=1\n",
    "epochs=20\n",
    "num_correct=0\n",
    "num_samples=0\n",
    "correct_epoch=[]\n",
    "y_prediction=[]\n",
    "y_true=[]\n",
    "for epoch in range(epochs):\n",
    "    num_correct=0\n",
    "    num_samples=0\n",
    "    t0=time.time()\n",
    "    print(f'current epoch is {epoch_current}')\n",
    "    model5.train(True)\n",
    "    train_loss=train_one_epoch(epoch_current)\n",
    "    model5.train(False)\n",
    "    print(f'training loss is {train_loss}')\n",
    "    testing_loss=0\n",
    "    total_testing_loss=0\n",
    "    for i,testdata in enumerate(testing_loader):\n",
    "        testinputs,testlabels=testdata\n",
    "        testoutputs=model5(testinputs)\n",
    "        testloss=loss_fn(testoutputs,testlabels)\n",
    "        total_testing_loss+=testloss\n",
    "        avg_testing_loss=total_testing_loss/(i+1)\n",
    "        predictions=(testoutputs>=0.5)\n",
    "        num_correct+=(predictions==testlabels).sum()\n",
    "        num_samples+=predictions.size(0)\n",
    "        if (avg_testing_loss<testing_best_loss):\n",
    "            testing_best_loss=avg_testing_loss\n",
    "            best_model=model5.state_dict()\n",
    "            predictions=(testoutputs>0.5)\n",
    "            correct_ones=((predictions==testlabels).sum())/(testlabels.size(dim=0))\n",
    "    correct_epoch.append(num_correct)\n",
    "    epoch_current+=1\n",
    "# for i,testdata in enumerate(testing_loader):\n",
    "#     testinputs,testlabels=testdata\n",
    "#     testoutputs=best_model(testinputs)\n",
    "#     predictions=(testoutputs>0.5)\n",
    "#     num_correct_final+=(predictions==testlabels).sum()\n",
    "model5_time=time.time()-t0\n",
    "print(f'final time={model5_time}')    \n",
    "print(testing_best_loss)\n",
    "print(num_correct)\n",
    "print(correct_epoch)\n",
    "print(correct_ones*100)"
   ]
  },
  {
   "cell_type": "markdown",
   "id": "f5fe32a9",
   "metadata": {},
   "source": [
    "### Step 3\n",
    "\n",
    "After using Xavier initilization this is not ideal for our case "
   ]
  },
  {
   "cell_type": "markdown",
   "id": "0613d7d9",
   "metadata": {},
   "source": [
    "The best of all models is our base model  features is listed below "
   ]
  },
  {
   "cell_type": "code",
   "execution_count": 331,
   "id": "4c3526a5",
   "metadata": {},
   "outputs": [],
   "source": [
    "class NeuralNetwork(nn.Module):\n",
    "    def __init__(self):\n",
    "        super(NeuralNetwork,self).__init__()\n",
    "        self.flatten=nn.Flatten()\n",
    "        self.layer1=nn.Linear(1206,512)\n",
    "        nn.init.xavier_normal_(self.layer1.weight)\n",
    "        self.act1=nn.ReLU()\n",
    "        self.dropout1=nn.Dropout(0.25)\n",
    "        self.layer2=nn.Linear(512,256)\n",
    "        nn.init.xavier_normal_(self.layer2.weight)\n",
    "        self.act2=nn.ReLU()\n",
    "        self.dropout2=nn.Dropout(0.25)\n",
    "        self.layer3=nn.Linear(256,256)\n",
    "        nn.init.xavier_normal_(self.layer3.weight)\n",
    "        self.act3=nn.ReLU()\n",
    "        self.dropout3=nn.Dropout(0.25)\n",
    "        self.layer4=nn.Linear(256,128)\n",
    "        self.act4=nn.ReLU()\n",
    "        nn.init.xavier_normal_(self.layer4.weight)\n",
    "        self.dropout4=nn.Dropout(0.25)\n",
    "        self.layer5=nn.Linear(128,128)\n",
    "        self.act5=nn.ReLU()\n",
    "        nn.init.xavier_normal_(self.layer5.weight)\n",
    "        self.dropout5=nn.Dropout(0.25)\n",
    "        self.layer6=nn.Linear(128,64)\n",
    "        self.act6=nn.ReLU()\n",
    "        nn.init.xavier_normal_(self.layer6.weight)\n",
    "        self.dropout6=nn.Dropout(0.25)\n",
    "        self.layer7=nn.Linear(64,64)\n",
    "        self.act7=nn.ReLU()\n",
    "        nn.init.xavier_normal_(self.layer7.weight)\n",
    "        self.dropout7=nn.Dropout(0.25)\n",
    "        self.layer8=nn.Linear(64,1)\n",
    "        nn.init.xavier_normal_(self.layer8.weight)\n",
    "        self.sigmoid=nn.Sigmoid()\n",
    "    def forward(self, x):\n",
    "        x = self.flatten(x)\n",
    "        x=self.act1(self.layer1(x))\n",
    "        x=self.dropout1(x)\n",
    "        x=self.act2(self.layer2(x))\n",
    "        x=self.dropout2(x)\n",
    "        x=self.act3(self.layer3(x))\n",
    "        x=self.dropout3(x)\n",
    "        x=self.act4(self.layer4(x))\n",
    "        x=self.dropout4(x)\n",
    "        x=self.act5(self.layer5(x))\n",
    "        x=self.dropout5(x)\n",
    "        x=self.act6(self.layer6(x))\n",
    "        x=self.dropout6(x)\n",
    "        x=self.act7(self.layer7(x))\n",
    "        x=self.dropout7(x)\n",
    "        x=self.layer8(x)\n",
    "        logits = self.sigmoid(x)\n",
    "        return torch.reshape(logits,(-1,))"
   ]
  },
  {
   "cell_type": "code",
   "execution_count": 332,
   "id": "7637e94b",
   "metadata": {},
   "outputs": [
    {
     "name": "stdout",
     "output_type": "stream",
     "text": [
      "NeuralNetwork(\n",
      "  (flatten): Flatten(start_dim=1, end_dim=-1)\n",
      "  (layer1): Linear(in_features=1206, out_features=512, bias=True)\n",
      "  (act1): ReLU()\n",
      "  (dropout1): Dropout(p=0.25, inplace=False)\n",
      "  (layer2): Linear(in_features=512, out_features=256, bias=True)\n",
      "  (act2): ReLU()\n",
      "  (dropout2): Dropout(p=0.25, inplace=False)\n",
      "  (layer3): Linear(in_features=256, out_features=256, bias=True)\n",
      "  (act3): ReLU()\n",
      "  (dropout3): Dropout(p=0.25, inplace=False)\n",
      "  (layer4): Linear(in_features=256, out_features=128, bias=True)\n",
      "  (act4): ReLU()\n",
      "  (dropout4): Dropout(p=0.25, inplace=False)\n",
      "  (layer5): Linear(in_features=128, out_features=128, bias=True)\n",
      "  (act5): ReLU()\n",
      "  (dropout5): Dropout(p=0.25, inplace=False)\n",
      "  (layer6): Linear(in_features=128, out_features=64, bias=True)\n",
      "  (act6): ReLU()\n",
      "  (dropout6): Dropout(p=0.25, inplace=False)\n",
      "  (layer7): Linear(in_features=64, out_features=64, bias=True)\n",
      "  (act7): ReLU()\n",
      "  (dropout7): Dropout(p=0.25, inplace=False)\n",
      "  (layer8): Linear(in_features=64, out_features=1, bias=True)\n",
      "  (sigmoid): Sigmoid()\n",
      ")\n"
     ]
    }
   ],
   "source": [
    "base_model=NeuralNetwork().to(device)\n",
    "print(base_model)"
   ]
  },
  {
   "cell_type": "markdown",
   "id": "56b93eb0",
   "metadata": {},
   "source": [
    "The optimizer is Adam"
   ]
  },
  {
   "cell_type": "code",
   "execution_count": 277,
   "id": "2bebd04b",
   "metadata": {},
   "outputs": [],
   "source": [
    "optimizer=torch.optim.SGD(base_model.parameters(),lr=0.01)"
   ]
  },
  {
   "cell_type": "markdown",
   "id": "c3a0a16e",
   "metadata": {},
   "source": [
    "This is the base model with no optimisation methods used"
   ]
  },
  {
   "cell_type": "code",
   "execution_count": 300,
   "id": "549e567b",
   "metadata": {},
   "outputs": [],
   "source": [
    "def train_one_epoch(epoch_index):\n",
    "    running_loss = 0.\n",
    "    last_loss = 0.\n",
    "    for i, data in enumerate(training_loader):\n",
    "        inputs, labels = data\n",
    "        optimizer.zero_grad()\n",
    "        outputs = base_model(inputs)\n",
    "        loss = loss_fn(outputs, labels)\n",
    "        loss.backward()\n",
    "        optimizer.step()\n",
    "        running_loss += loss.item()\n",
    "        if i % 20 == 19:\n",
    "            last_loss = running_loss/19  \n",
    "#            print('  batch {} loss: {}'.format(i + 1, last_loss))\n",
    "#             tb_x = epoch_index * len(training_loader) + i + 1\n",
    "#             tb_writer.add_scalar('Loss/train', last_loss, tb_x)\n",
    "            running_loss = 0\n",
    "    return running_loss"
   ]
  },
  {
   "cell_type": "code",
   "execution_count": 302,
   "id": "14f3d68a",
   "metadata": {},
   "outputs": [
    {
     "name": "stdout",
     "output_type": "stream",
     "text": [
      "current epoch is 1\n",
      "training loss is 0.6895385384559631\n",
      "current epoch is 2\n",
      "training loss is 1.3243873417377472\n",
      "current epoch is 3\n",
      "training loss is 0.8713246881961823\n",
      "current epoch is 4\n",
      "training loss is 0.7699929028749466\n",
      "current epoch is 5\n",
      "training loss is 0.8240740299224854\n",
      "current epoch is 6\n",
      "training loss is 0.6618585884571075\n",
      "current epoch is 7\n",
      "training loss is 0.6554736457765102\n",
      "current epoch is 8\n",
      "training loss is 0.578304735943675\n",
      "current epoch is 9\n",
      "training loss is 1.0012053549289703\n",
      "current epoch is 10\n",
      "training loss is 0.9230711460113525\n",
      "current epoch is 11\n",
      "training loss is 0.6344012171030045\n",
      "current epoch is 12\n",
      "training loss is 1.1952955722808838\n",
      "current epoch is 13\n",
      "training loss is 0.7484656348824501\n",
      "current epoch is 14\n",
      "training loss is 0.9689759314060211\n",
      "current epoch is 15\n",
      "training loss is 0.7203518003225327\n",
      "current epoch is 16\n",
      "training loss is 0.5723278820514679\n",
      "current epoch is 17\n",
      "training loss is 0.49010345339775085\n",
      "current epoch is 18\n",
      "training loss is 0.7770448923110962\n",
      "current epoch is 19\n",
      "training loss is 0.6665359511971474\n",
      "current epoch is 20\n",
      "training loss is 0.8222714215517044\n",
      "current epoch is 21\n",
      "training loss is 1.0304885506629944\n",
      "current epoch is 22\n",
      "training loss is 0.7671581208705902\n",
      "current epoch is 23\n",
      "training loss is 0.5943487584590912\n",
      "current epoch is 24\n",
      "training loss is 0.5888698101043701\n",
      "current epoch is 25\n",
      "training loss is 0.9080755338072777\n",
      "current epoch is 26\n",
      "training loss is 1.0774239301681519\n",
      "current epoch is 27\n",
      "training loss is 0.5478856042027473\n",
      "current epoch is 28\n",
      "training loss is 1.2038337737321854\n",
      "current epoch is 29\n",
      "training loss is 0.5549613311886787\n",
      "current epoch is 30\n",
      "training loss is 0.4134737327694893\n",
      "current epoch is 31\n",
      "training loss is 0.5460628531873226\n",
      "current epoch is 32\n",
      "training loss is 0.5637601166963577\n",
      "current epoch is 33\n",
      "training loss is 0.6159959733486176\n",
      "current epoch is 34\n",
      "training loss is 0.8873909413814545\n",
      "current epoch is 35\n",
      "training loss is 0.5931506901979446\n",
      "current epoch is 36\n",
      "training loss is 0.8263739943504333\n",
      "current epoch is 37\n",
      "training loss is 0.7603526264429092\n",
      "current epoch is 38\n",
      "training loss is 0.34237923473119736\n",
      "current epoch is 39\n",
      "training loss is 0.649420827627182\n",
      "current epoch is 40\n",
      "training loss is 0.7794063985347748\n",
      "current epoch is 41\n",
      "training loss is 0.784440889954567\n",
      "current epoch is 42\n",
      "training loss is 1.3428110480308533\n",
      "current epoch is 43\n",
      "training loss is 0.9062766432762146\n",
      "current epoch is 44\n",
      "training loss is 0.6278973817825317\n",
      "current epoch is 45\n",
      "training loss is 0.6164130941033363\n",
      "current epoch is 46\n",
      "training loss is 0.6119284387677908\n",
      "current epoch is 47\n",
      "training loss is 0.7796620577573776\n",
      "current epoch is 48\n",
      "training loss is 0.7023506909608841\n",
      "current epoch is 49\n",
      "training loss is 0.6561574041843414\n",
      "current epoch is 50\n",
      "training loss is 0.49711334705352783\n",
      "current epoch is 51\n",
      "training loss is 0.8108104318380356\n",
      "current epoch is 52\n",
      "training loss is 0.5835348144173622\n",
      "current epoch is 53\n",
      "training loss is 0.6251664310693741\n",
      "current epoch is 54\n",
      "training loss is 0.6147281229496002\n",
      "current epoch is 55\n",
      "training loss is 0.5374980717897415\n",
      "current epoch is 56\n",
      "training loss is 0.5507126301527023\n",
      "current epoch is 57\n",
      "training loss is 0.9447547644376755\n",
      "current epoch is 58\n",
      "training loss is 0.5619081892073154\n",
      "current epoch is 59\n",
      "training loss is 0.7268696427345276\n",
      "current epoch is 60\n",
      "training loss is 1.1429079473018646\n",
      "current epoch is 61\n",
      "training loss is 1.446284607052803\n",
      "current epoch is 62\n",
      "training loss is 0.42292385268956423\n",
      "current epoch is 63\n",
      "training loss is 0.3983859717845917\n",
      "current epoch is 64\n",
      "training loss is 0.2810453176498413\n",
      "current epoch is 65\n",
      "training loss is 0.780066043138504\n",
      "current epoch is 66\n",
      "training loss is 0.6426873095333576\n",
      "current epoch is 67\n",
      "training loss is 0.420899897813797\n",
      "current epoch is 68\n",
      "training loss is 0.7105442136526108\n",
      "current epoch is 69\n",
      "training loss is 0.574662521481514\n",
      "current epoch is 70\n",
      "training loss is 0.6949673891067505\n",
      "current epoch is 71\n",
      "training loss is 0.41237514466047287\n",
      "current epoch is 72\n",
      "training loss is 0.6859472393989563\n",
      "current epoch is 73\n",
      "training loss is 0.7407172918319702\n",
      "current epoch is 74\n",
      "training loss is 0.9803463816642761\n",
      "current epoch is 75\n",
      "training loss is 1.0152188390493393\n",
      "current epoch is 76\n",
      "training loss is 0.8595751374959946\n",
      "current epoch is 77\n",
      "training loss is 0.5089876651763916\n",
      "current epoch is 78\n",
      "training loss is 0.4312450960278511\n",
      "current epoch is 79\n",
      "training loss is 0.8505554795265198\n",
      "current epoch is 80\n",
      "training loss is 0.5706930905580521\n",
      "current epoch is 81\n",
      "training loss is 0.7700671553611755\n",
      "current epoch is 82\n",
      "training loss is 0.6434755772352219\n",
      "current epoch is 83\n",
      "training loss is 0.5649974346160889\n",
      "current epoch is 84\n",
      "training loss is 0.7287854850292206\n",
      "current epoch is 85\n",
      "training loss is 0.5779522433876991\n",
      "current epoch is 86\n",
      "training loss is 0.8134519010782242\n",
      "current epoch is 87\n",
      "training loss is 0.44083933159708977\n",
      "current epoch is 88\n",
      "training loss is 0.7209975868463516\n",
      "current epoch is 89\n",
      "training loss is 0.6579959243535995\n",
      "current epoch is 90\n",
      "training loss is 0.6972728967666626\n",
      "current epoch is 91\n",
      "training loss is 0.8363456279039383\n",
      "current epoch is 92\n",
      "training loss is 0.9754627048969269\n",
      "current epoch is 93\n",
      "training loss is 0.7157739847898483\n",
      "current epoch is 94\n",
      "training loss is 0.43888797610998154\n",
      "current epoch is 95\n",
      "training loss is 0.7106542438268661\n",
      "current epoch is 96\n",
      "training loss is 0.45061086118221283\n",
      "current epoch is 97\n",
      "training loss is 0.9986515939235687\n",
      "current epoch is 98\n",
      "training loss is 0.6097158789634705\n",
      "current epoch is 99\n",
      "training loss is 0.6236183792352676\n",
      "current epoch is 100\n",
      "training loss is 0.5263077542185783\n",
      "final time=0.1719510555267334\n",
      "tensor(0.3994, grad_fn=<DivBackward0>)\n",
      "tensor(96)\n",
      "[tensor(96), tensor(96), tensor(96), tensor(96), tensor(96), tensor(96), tensor(96), tensor(96), tensor(96), tensor(96), tensor(96), tensor(96), tensor(96), tensor(96), tensor(96), tensor(96), tensor(96), tensor(96), tensor(96), tensor(96), tensor(96), tensor(96), tensor(96), tensor(96), tensor(96), tensor(96), tensor(96), tensor(96), tensor(96), tensor(96), tensor(96), tensor(96), tensor(96), tensor(96), tensor(96), tensor(96), tensor(96), tensor(96), tensor(96), tensor(96), tensor(96), tensor(96), tensor(96), tensor(96), tensor(96), tensor(96), tensor(96), tensor(96), tensor(96), tensor(96), tensor(96), tensor(96), tensor(96), tensor(96), tensor(96), tensor(96), tensor(96), tensor(96), tensor(96), tensor(96), tensor(96), tensor(96), tensor(96), tensor(96), tensor(96), tensor(96), tensor(96), tensor(96), tensor(96), tensor(96), tensor(96), tensor(96), tensor(96), tensor(96), tensor(96), tensor(96), tensor(96), tensor(96), tensor(96), tensor(96), tensor(96), tensor(96), tensor(96), tensor(96), tensor(96), tensor(96), tensor(96), tensor(96), tensor(96), tensor(96), tensor(96), tensor(96), tensor(96), tensor(96), tensor(96), tensor(96), tensor(96), tensor(96), tensor(96), tensor(96)]\n",
      "tensor(100.)\n"
     ]
    }
   ],
   "source": [
    "testing_best_loss=100000000\n",
    "epoch_current=1\n",
    "epochs=100\n",
    "num_correct=0\n",
    "num_samples=0\n",
    "correct_epoch=[]\n",
    "y_prediction=[]\n",
    "y_true=[]\n",
    "training_losses_base_model=[]\n",
    "testing_losses_base_model=[]\n",
    "for epoch in range(epochs):\n",
    "    num_correct=0\n",
    "    num_samples=0\n",
    "    t0=time.time()\n",
    "    print(f'current epoch is {epoch_current}')\n",
    "    model5.train(True)\n",
    "    train_loss=train_one_epoch(epoch_current)\n",
    "    model5.train(False)\n",
    "    print(f'training loss is {train_loss}')\n",
    "    testing_loss=0\n",
    "    total_testing_loss=0\n",
    "    for i,testdata in enumerate(testing_loader):\n",
    "        testinputs,testlabels=testdata\n",
    "        testoutputs=model5(testinputs)\n",
    "        testloss=loss_fn(testoutputs,testlabels)\n",
    "        total_testing_loss+=testloss\n",
    "        avg_testing_loss=total_testing_loss/(i+1)\n",
    "        predictions=(testoutputs>=0.5)\n",
    "        num_correct+=(predictions==testlabels).sum()\n",
    "        num_samples+=predictions.size(0)\n",
    "        if (avg_testing_loss<testing_best_loss):\n",
    "            testing_best_loss=avg_testing_loss\n",
    "            best_model=model5.state_dict()\n",
    "            predictions=(testoutputs>0.5)\n",
    "            correct_ones=((predictions==testlabels).sum())/(testlabels.size(dim=0))\n",
    "    correct_epoch.append(num_correct)\n",
    "    training_losses_base_model.append(train_loss)\n",
    "    testing_losses_base_model.append(avg_testing_loss)\n",
    "    epoch_current+=1\n",
    "# for i,testdata in enumerate(testing_loader):\n",
    "#     testinputs,testlabels=testdata\n",
    "#     testoutputs=best_model(testinputs)\n",
    "#     predictions=(testoutputs>0.5)\n",
    "#     num_correct_final+=(predictions==testlabels).sum()\n",
    "model5_time=time.time()-t0\n",
    "print(f'final time={model5_time}')    \n",
    "print(testing_best_loss)\n",
    "print(num_correct)\n",
    "print(correct_epoch)\n",
    "print(correct_ones*100)\n"
   ]
  },
  {
   "cell_type": "markdown",
   "id": "abd18eab",
   "metadata": {},
   "source": [
    "Let's start with early stopping and if the validation error doesn't improve after 3 epoch the loop is going to break"
   ]
  },
  {
   "cell_type": "code",
   "execution_count": 190,
   "id": "458de190",
   "metadata": {},
   "outputs": [],
   "source": [
    "def train_one_epoch(epoch_index):\n",
    "    running_loss = 0.\n",
    "    last_loss = 0.\n",
    "    for i, data in enumerate(training_loader):\n",
    "        inputs, labels = data\n",
    "        optimizer.zero_grad()\n",
    "        outputs = base_model(inputs)\n",
    "        loss = loss_fn(outputs, labels)\n",
    "        loss.backward()\n",
    "        optimizer.step()\n",
    "        running_loss += loss.item()\n",
    "        if i % 20 == 19:\n",
    "            last_loss = running_loss/19  \n",
    "#            print('  batch {} loss: {}'.format(i + 1, last_loss))\n",
    "#             tb_x = epoch_index * len(training_loader) + i + 1\n",
    "#             tb_writer.add_scalar('Loss/train', last_loss, tb_x)\n",
    "            running_loss = 0\n",
    "    return last_loss"
   ]
  },
  {
   "cell_type": "code",
   "execution_count": 303,
   "id": "1eaec082",
   "metadata": {},
   "outputs": [
    {
     "name": "stdout",
     "output_type": "stream",
     "text": [
      "current epoch is 1\n",
      "training loss is 0.6588260214775801\n",
      "current epoch is 2\n",
      "training loss is 1.58581081032753\n",
      "current epoch is 3\n",
      "training loss is 1.0951915383338928\n",
      "current epoch is 4\n",
      "training loss is 1.276029460132122\n",
      "current epoch is 5\n",
      "training loss is 1.0535112023353577\n",
      "time_taken is 0.1870272159576416\n",
      "tensor(0.3373, grad_fn=<DivBackward0>)\n",
      "tensor(98)\n",
      "[tensor(98), tensor(98), tensor(98), tensor(98), tensor(98)]\n",
      "tensor(80.)\n"
     ]
    }
   ],
   "source": [
    "testing_best_loss=100000000\n",
    "epoch_current=1\n",
    "epochs=100\n",
    "num_correct=0\n",
    "num_samples=0\n",
    "correct_epoch=[]\n",
    "y_prediction=[]\n",
    "y_true=[]\n",
    "not_improving=0\n",
    "training_losses_earlystopping=[]\n",
    "testing_losses_earlystopping=[]\n",
    "for epoch in range(epochs):\n",
    "    t0=time.time()\n",
    "    num_correct=0\n",
    "    num_samples=0\n",
    "    print(f'current epoch is {epoch_current}')\n",
    "    base_model.train(True)\n",
    "    train_loss=train_one_epoch(epoch_current)\n",
    "    base_model.train(False)\n",
    "    print(f'training loss is {train_loss}')\n",
    "    testing_loss=0\n",
    "    total_testing_loss=0\n",
    "    for i,testdata in enumerate(testing_loader):\n",
    "        testinputs,testlabels=testdata\n",
    "        testoutputs=base_model(testinputs)\n",
    "        testloss=loss_fn(testoutputs,testlabels)\n",
    "        total_testing_loss+=testloss\n",
    "        avg_testing_loss=total_testing_loss/(i+1)\n",
    "        predictions=(testoutputs>=0.5)\n",
    "        num_correct+=(predictions==testlabels).sum()\n",
    "        num_samples+=predictions.size(0)\n",
    "        if (avg_testing_loss<testing_best_loss):\n",
    "            testing_best_loss=avg_testing_loss\n",
    "            best_model=base_model.state_dict()\n",
    "            predictions=(testoutputs>0.5)\n",
    "            correct_ones=((predictions==testlabels).sum())/(testlabels.size(dim=0))\n",
    "    training_losses_earlystopping.append(train_loss)\n",
    "    testing_losses_earlystopping.append(avg_testing_loss)\n",
    "    correct_epoch.append(num_correct)\n",
    "    if(num_correct>max(correct_epoch)):\n",
    "        not_improving=0\n",
    "    else:\n",
    "        not_improving+=1\n",
    "    if(not_improving==5):\n",
    "        break\n",
    "    \n",
    "    epoch_current+=1\n",
    "# for i,testdata in enumerate(testing_loader):\n",
    "#     testinputs,testlabels=testdata\n",
    "#     testoutputs=best_model(testinputs)\n",
    "#     predictions=(testoutputs>0.5)\n",
    "#     num_correct_final+=(predictions==testlabels).sum()\n",
    "base_model1_time=time.time()-t0\n",
    "print(f'time_taken is {base_model1_time}')\n",
    "print(testing_best_loss)\n",
    "print(num_correct)\n",
    "print(correct_epoch)\n",
    "print(correct_ones*100)"
   ]
  },
  {
   "cell_type": "code",
   "execution_count": 342,
   "id": "e9c4e779",
   "metadata": {},
   "outputs": [
    {
     "data": {
      "text/plain": [
       "[array(0.72146344, dtype=float32),\n",
       " array(0.721459, dtype=float32),\n",
       " array(0.72145575, dtype=float32),\n",
       " array(0.72144115, dtype=float32),\n",
       " array(0.72140014, dtype=float32)]"
      ]
     },
     "execution_count": 342,
     "metadata": {},
     "output_type": "execute_result"
    }
   ],
   "source": [
    "ans=[ele.detach().numpy() for ele in testing_losses_base_model]\n",
    "ans2=[ele.detach().numpy() for ele in testing_losses_earlystopping]\n",
    "ans2"
   ]
  },
  {
   "cell_type": "code",
   "execution_count": 320,
   "id": "572d4c59",
   "metadata": {},
   "outputs": [
    {
     "data": {
      "image/png": "[encoded data removed]",
      "text/plain": [
       "<Figure size 640x480 with 1 Axes>"
      ]
     },
     "metadata": {},
     "output_type": "display_data"
    }
   ],
   "source": [
    "epochs=range(1,101)\n",
    "epochs2=range(1,len(training_losses_earlystopping)+1)\n",
    "plt.plot(epochs2,training_losses_earlystopping,'g',label='training loss earlystopping')\n",
    "plt.plot(epochs2,ans2,'b',label='testing loss earlystopping')\n",
    "plt.plot(epochs,training_losses_base_model,'r',label='training loss base model')\n",
    "plt.plot(epochs,ans,'y',label='testing loss base model')\n",
    "plt.legend()\n",
    "plt.show()"
   ]
  },
  {
   "cell_type": "markdown",
   "id": "fd7b37c0",
   "metadata": {},
   "source": [
    "The time difference between the two models is"
   ]
  },
  {
   "cell_type": "code",
   "execution_count": 193,
   "id": "b68a91bf",
   "metadata": {},
   "outputs": [
    {
     "data": {
      "text/plain": [
       "0.2621908187866211"
      ]
     },
     "execution_count": 193,
     "metadata": {},
     "output_type": "execute_result"
    }
   ],
   "source": [
    "model5_time-base_model1_time"
   ]
  },
  {
   "cell_type": "markdown",
   "id": "c9508078",
   "metadata": {},
   "source": [
    "There is a significant change in time taken to train"
   ]
  },
  {
   "cell_type": "markdown",
   "id": "d850fd68",
   "metadata": {},
   "source": [
    "Now let's look at k-fold cross validation."
   ]
  },
  {
   "cell_type": "code",
   "execution_count": 321,
   "id": "4edb41ff",
   "metadata": {},
   "outputs": [],
   "source": [
    "class MyDataset(Dataset):\n",
    "    def __init__(self,a,b):\n",
    "        super().__init__()\n",
    "        self.a=a\n",
    "        self.b=b\n",
    "    def __getitem__(self,index):\n",
    "        return self.a[index],self.b[index]\n",
    "    def __len__(self):\n",
    "        ans=len(self.a)\n",
    "        return ans\n",
    "\n",
    "dataset=MyDataset(X_train,Y_train.values)"
   ]
  },
  {
   "cell_type": "code",
   "execution_count": 322,
   "id": "a861a45b",
   "metadata": {},
   "outputs": [],
   "source": [
    "optimizer=torch.optim.Adam(base_model.parameters(),lr=0.0001)"
   ]
  },
  {
   "cell_type": "code",
   "execution_count": 323,
   "id": "b2f61640",
   "metadata": {},
   "outputs": [],
   "source": [
    "k=KFold(n_splits=5,shuffle=True)"
   ]
  },
  {
   "cell_type": "code",
   "execution_count": 324,
   "id": "38bbbf24",
   "metadata": {},
   "outputs": [],
   "source": [
    "def train_one_epoch(epoch_index):\n",
    "    running_loss = 0.\n",
    "    last_loss = 0.\n",
    "    for i, data in enumerate(training_loader):\n",
    "        inputs, labels = data\n",
    "        optimizer.zero_grad()\n",
    "        inputs=torch.tensor(inputs)\n",
    "        inputs=inputs.to(torch.float32)\n",
    "        labels=torch.tensor(labels)\n",
    "        labels=labels.to(torch.float32)\n",
    "        outputs = base_model(torch.tensor(inputs))\n",
    "        loss = loss_fn(outputs, torch.tensor(labels))\n",
    "        loss.backward()\n",
    "        optimizer.step()\n",
    "        running_loss += loss.item()\n",
    "        if i % 5 == 4:\n",
    "            last_loss = running_loss/5  \n",
    "#            print('  batch {} loss: {}'.format(i + 1, last_loss))\n",
    "#             tb_x = epoch_index * len(training_loader) + i + 1\n",
    "#             tb_writer.add_scalar('Loss/train', last_loss, tb_x)\n",
    "            running_loss = 0\n",
    "    return last_loss"
   ]
  },
  {
   "cell_type": "code",
   "execution_count": 325,
   "id": "309af3a5",
   "metadata": {},
   "outputs": [
    {
     "name": "stdout",
     "output_type": "stream",
     "text": [
      "current fold is 0\n",
      "current epoch is 1\n"
     ]
    },
    {
     "name": "stderr",
     "output_type": "stream",
     "text": [
      "/var/folders/ch/smc0q7m106q8yldyl_4tsr3w0000gn/T/ipykernel_53571/394998263.py:7: UserWarning: To copy construct from a tensor, it is recommended to use sourceTensor.clone().detach() or sourceTensor.clone().detach().requires_grad_(True), rather than torch.tensor(sourceTensor).\n",
      "  inputs=torch.tensor(inputs)\n",
      "/var/folders/ch/smc0q7m106q8yldyl_4tsr3w0000gn/T/ipykernel_53571/394998263.py:9: UserWarning: To copy construct from a tensor, it is recommended to use sourceTensor.clone().detach() or sourceTensor.clone().detach().requires_grad_(True), rather than torch.tensor(sourceTensor).\n",
      "  labels=torch.tensor(labels)\n",
      "/var/folders/ch/smc0q7m106q8yldyl_4tsr3w0000gn/T/ipykernel_53571/394998263.py:11: UserWarning: To copy construct from a tensor, it is recommended to use sourceTensor.clone().detach() or sourceTensor.clone().detach().requires_grad_(True), rather than torch.tensor(sourceTensor).\n",
      "  outputs = base_model(torch.tensor(inputs))\n",
      "/var/folders/ch/smc0q7m106q8yldyl_4tsr3w0000gn/T/ipykernel_53571/394998263.py:12: UserWarning: To copy construct from a tensor, it is recommended to use sourceTensor.clone().detach() or sourceTensor.clone().detach().requires_grad_(True), rather than torch.tensor(sourceTensor).\n",
      "  loss = loss_fn(outputs, torch.tensor(labels))\n"
     ]
    },
    {
     "name": "stdout",
     "output_type": "stream",
     "text": [
      "training loss is 0.3484165295958519\n",
      "current epoch is 2\n"
     ]
    },
    {
     "name": "stderr",
     "output_type": "stream",
     "text": [
      "/var/folders/ch/smc0q7m106q8yldyl_4tsr3w0000gn/T/ipykernel_53571/2110347711.py:35: UserWarning: To copy construct from a tensor, it is recommended to use sourceTensor.clone().detach() or sourceTensor.clone().detach().requires_grad_(True), rather than torch.tensor(sourceTensor).\n",
      "  testinputs=torch.tensor(testinputs)\n",
      "/var/folders/ch/smc0q7m106q8yldyl_4tsr3w0000gn/T/ipykernel_53571/2110347711.py:37: UserWarning: To copy construct from a tensor, it is recommended to use sourceTensor.clone().detach() or sourceTensor.clone().detach().requires_grad_(True), rather than torch.tensor(sourceTensor).\n",
      "  testlabels=torch.tensor(testlabels)\n"
     ]
    },
    {
     "name": "stdout",
     "output_type": "stream",
     "text": [
      "training loss is 0.4668454870581627\n",
      "current epoch is 3\n",
      "training loss is 0.13225932866334916\n",
      "current epoch is 4\n",
      "training loss is 0.09160376116633415\n",
      "current epoch is 5\n",
      "training loss is 0.08277884237468243\n",
      "current epoch is 6\n",
      "training loss is 0.05828417625743896\n",
      "current epoch is 7\n",
      "training loss is 0.033563155215233564\n",
      "current epoch is 8\n",
      "training loss is 0.018864680849947035\n",
      "current epoch is 9\n",
      "training loss is 0.010486593376845122\n",
      "current epoch is 10\n",
      "training loss is 0.0031246343336533756\n",
      "current epoch is 11\n",
      "training loss is 0.002899660402908921\n",
      "current epoch is 12\n",
      "training loss is 0.002531248566810973\n",
      "current epoch is 13\n",
      "training loss is 0.01829883476275427\n",
      "current epoch is 14\n",
      "training loss is 0.004113084229902597\n",
      "current epoch is 15\n",
      "training loss is 0.005747037462424487\n",
      "current epoch is 16\n",
      "training loss is 0.0035393280675634744\n",
      "current epoch is 17\n",
      "training loss is 0.0007807279836924863\n",
      "current epoch is 18\n",
      "training loss is 0.03003806942306255\n",
      "current epoch is 19\n",
      "training loss is 0.10673297777757398\n",
      "current epoch is 20\n",
      "training loss is 0.0014934726862975366\n",
      "time_taken is 0.3644869327545166\n",
      "tensor(0.0006, grad_fn=<DivBackward0>)\n",
      "tensor(113)\n",
      "[tensor(121), tensor(119), tensor(113), tensor(118), tensor(116), tensor(113), tensor(116), tensor(109), tensor(113), tensor(113), tensor(113), tensor(113), tensor(110), tensor(111), tensor(112), tensor(114), tensor(112), tensor(111), tensor(110), tensor(113)]\n",
      "tensor(100.)\n",
      "current fold is 1\n",
      "current epoch is 1\n",
      "training loss is 0.37554811388254167\n",
      "current epoch is 2\n",
      "training loss is 0.013874391530407593\n",
      "current epoch is 3\n",
      "training loss is 0.002060472656739876\n",
      "current epoch is 4\n",
      "training loss is 0.0020471983356401325\n",
      "current epoch is 5\n",
      "training loss is 0.000780540893356374\n",
      "current epoch is 6\n",
      "training loss is 0.0007917758432085976\n",
      "current epoch is 7\n",
      "training loss is 0.0019830316807201596\n",
      "current epoch is 8\n",
      "training loss is 0.005415312989498489\n",
      "current epoch is 9\n",
      "training loss is 0.0007533670752309263\n",
      "current epoch is 10\n",
      "training loss is 0.0009049630720255663\n",
      "current epoch is 11\n",
      "training loss is 0.001618703990789072\n",
      "current epoch is 12\n",
      "training loss is 0.0034591839512359\n",
      "current epoch is 13\n",
      "training loss is 0.0004902976812445559\n",
      "current epoch is 14\n",
      "training loss is 0.00012136164586991071\n",
      "current epoch is 15\n",
      "training loss is 0.0005014369342461577\n",
      "current epoch is 16\n",
      "training loss is 0.0003140146211535466\n",
      "current epoch is 17\n",
      "training loss is 8.081141804794356e-05\n",
      "current epoch is 18\n",
      "training loss is 0.000336357288324507\n",
      "current epoch is 19\n",
      "training loss is 0.0007578812437941451\n",
      "current epoch is 20\n",
      "training loss is 0.0006141070311059593\n",
      "time_taken is 0.3671889305114746\n",
      "tensor(9.3593e-07, grad_fn=<DivBackward0>)\n",
      "tensor(123)\n",
      "[tensor(123), tensor(123), tensor(123), tensor(123), tensor(123), tensor(123), tensor(123), tensor(123), tensor(123), tensor(123), tensor(123), tensor(123), tensor(123), tensor(123), tensor(123), tensor(123), tensor(123), tensor(123), tensor(123), tensor(123)]\n",
      "tensor(100.)\n",
      "current fold is 2\n",
      "current epoch is 1\n",
      "training loss is 0.00014643990589320311\n",
      "current epoch is 2\n",
      "training loss is 0.00032757743847469103\n",
      "current epoch is 3\n",
      "training loss is 3.763929500699703e-05\n",
      "current epoch is 4\n",
      "training loss is 0.0016528312554100922\n",
      "current epoch is 5\n",
      "training loss is 0.0002378191628110926\n",
      "current epoch is 6\n",
      "training loss is 3.923340646849738e-06\n",
      "current epoch is 7\n",
      "training loss is 0.0002846184616828396\n",
      "current epoch is 8\n",
      "training loss is 9.776198032795946e-05\n",
      "current epoch is 9\n",
      "training loss is 0.0011929580433388764\n",
      "current epoch is 10\n",
      "training loss is 0.005220833008036152\n",
      "current epoch is 11\n",
      "training loss is 4.0775886463961794e-05\n",
      "current epoch is 12\n",
      "training loss is 0.0013498771086688066\n",
      "current epoch is 13\n",
      "training loss is 2.315313165013322e-05\n",
      "current epoch is 14\n",
      "training loss is 4.2260254818415885e-05\n",
      "current epoch is 15\n",
      "training loss is 6.801436020396068e-05\n",
      "current epoch is 16\n",
      "training loss is 4.744288602580582e-05\n",
      "current epoch is 17\n",
      "training loss is 3.8103478166817696e-05\n",
      "current epoch is 18\n",
      "training loss is 0.004337604971665776\n",
      "current epoch is 19\n",
      "training loss is 2.8802253922322052e-05\n",
      "current epoch is 20\n",
      "training loss is 0.00012982622290564906\n",
      "time_taken is 0.36670613288879395\n",
      "tensor(3.8120e-11, grad_fn=<DivBackward0>)\n",
      "tensor(122)\n",
      "[tensor(122), tensor(122), tensor(122), tensor(122), tensor(122), tensor(122), tensor(122), tensor(122), tensor(122), tensor(122), tensor(122), tensor(122), tensor(122), tensor(122), tensor(122), tensor(122), tensor(122), tensor(122), tensor(122), tensor(122)]\n",
      "tensor(100.)\n",
      "current fold is 3\n",
      "current epoch is 1\n",
      "training loss is 0.00018709460564423353\n",
      "current epoch is 2\n",
      "training loss is 9.096402842345696e-06\n",
      "current epoch is 3\n",
      "training loss is 7.288071375289206e-05\n",
      "current epoch is 4\n",
      "training loss is 3.1822464414688055e-07\n",
      "current epoch is 5\n",
      "training loss is 0.0012850429752916171\n",
      "current epoch is 6\n",
      "training loss is 0.024271149099922694\n",
      "current epoch is 7\n",
      "training loss is 0.0011062580483894636\n",
      "current epoch is 8\n",
      "training loss is 0.00013218659252061115\n",
      "current epoch is 9\n",
      "training loss is 2.062150626898074e-05\n",
      "current epoch is 10\n",
      "training loss is 0.0011557519834013874\n",
      "current epoch is 11\n",
      "training loss is 1.7283849871319035e-06\n",
      "current epoch is 12\n",
      "training loss is 0.0014754850026186261\n",
      "current epoch is 13\n",
      "training loss is 4.1151673911343775e-05\n",
      "current epoch is 14\n",
      "training loss is 7.214037479101876e-05\n",
      "current epoch is 15\n",
      "training loss is 8.139950381291783e-06\n",
      "current epoch is 16\n",
      "training loss is 0.00011429432055365396\n",
      "current epoch is 17\n",
      "training loss is 9.83518994530641e-05\n",
      "current epoch is 18\n",
      "training loss is 0.000244100826569138\n",
      "current epoch is 19\n",
      "training loss is 6.39682474884995e-06\n",
      "current epoch is 20\n",
      "training loss is 7.404533726429463e-05\n",
      "time_taken is 0.36768484115600586\n",
      "tensor(3.1261e-12, grad_fn=<DivBackward0>)\n",
      "tensor(122)\n",
      "[tensor(122), tensor(122), tensor(122), tensor(122), tensor(122), tensor(122), tensor(122), tensor(122), tensor(122), tensor(122), tensor(122), tensor(122), tensor(122), tensor(122), tensor(122), tensor(122), tensor(122), tensor(122), tensor(122), tensor(122)]\n",
      "tensor(100.)\n",
      "current fold is 4\n",
      "current epoch is 1\n",
      "training loss is 0.00031509027808169777\n",
      "current epoch is 2\n",
      "training loss is 8.37298247375884e-06\n",
      "current epoch is 3\n",
      "training loss is 0.0012598645238256268\n",
      "current epoch is 4\n",
      "training loss is 5.306431159368685e-07\n",
      "current epoch is 5\n",
      "training loss is 7.006750817240004e-06\n",
      "current epoch is 6\n",
      "training loss is 3.1725451177067046e-05\n",
      "current epoch is 7\n",
      "training loss is 0.0027932108584230032\n",
      "current epoch is 8\n",
      "training loss is 2.2899477809801282e-05\n",
      "current epoch is 9\n",
      "training loss is 9.334292092972873e-05\n",
      "current epoch is 10\n",
      "training loss is 1.1610014333029994e-05\n",
      "current epoch is 11\n",
      "training loss is 2.0905108939213433e-06\n",
      "current epoch is 12\n",
      "training loss is 3.943281868935733e-06\n",
      "current epoch is 13\n",
      "training loss is 7.862034224448422e-06\n",
      "current epoch is 14\n",
      "training loss is 7.762047478889567e-06\n",
      "current epoch is 15\n",
      "training loss is 6.347992852574758e-07\n",
      "current epoch is 16\n",
      "training loss is 1.481600618555845e-05\n",
      "current epoch is 17\n",
      "training loss is 2.0866196749125264e-06\n",
      "current epoch is 18\n",
      "training loss is 7.526158715670528e-06\n",
      "current epoch is 19\n",
      "training loss is 7.388998532528723e-06\n",
      "current epoch is 20\n",
      "training loss is 4.254914351520256e-06\n",
      "time_taken is 0.3672640323638916\n",
      "tensor(2.0739e-14, grad_fn=<DivBackward0>)\n",
      "tensor(122)\n",
      "[tensor(122), tensor(122), tensor(122), tensor(122), tensor(122), tensor(122), tensor(122), tensor(122), tensor(122), tensor(122), tensor(122), tensor(122), tensor(122), tensor(122), tensor(122), tensor(122), tensor(122), tensor(122), tensor(122), tensor(122)]\n",
      "tensor(100.)\n",
      "[tensor(98.3740), tensor(96.7480), tensor(91.8699), tensor(95.9350), tensor(94.3089), tensor(91.8699), tensor(94.3089), tensor(88.6179), tensor(91.8699), tensor(91.8699), tensor(91.8699), tensor(91.8699), tensor(89.4309), tensor(90.2439), tensor(91.0569), tensor(92.6829), tensor(91.0569), tensor(90.2439), tensor(89.4309), tensor(91.8699), tensor(100.), tensor(100.), tensor(100.), tensor(100.), tensor(100.), tensor(100.), tensor(100.), tensor(100.), tensor(100.), tensor(100.), tensor(100.), tensor(100.), tensor(100.), tensor(100.), tensor(100.), tensor(100.), tensor(100.), tensor(100.), tensor(100.), tensor(100.), tensor(100.), tensor(100.), tensor(100.), tensor(100.), tensor(100.), tensor(100.), tensor(100.), tensor(100.), tensor(100.), tensor(100.), tensor(100.), tensor(100.), tensor(100.), tensor(100.), tensor(100.), tensor(100.), tensor(100.), tensor(100.), tensor(100.), tensor(100.), tensor(100.), tensor(100.), tensor(100.), tensor(100.), tensor(100.), tensor(100.), tensor(100.), tensor(100.), tensor(100.), tensor(100.), tensor(100.), tensor(100.), tensor(100.), tensor(100.), tensor(100.), tensor(100.), tensor(100.), tensor(100.), tensor(100.), tensor(100.), tensor(100.), tensor(100.), tensor(100.), tensor(100.), tensor(100.), tensor(100.), tensor(100.), tensor(100.), tensor(100.), tensor(100.), tensor(100.), tensor(100.), tensor(100.), tensor(100.), tensor(100.), tensor(100.), tensor(100.), tensor(100.), tensor(100.), tensor(100.)]\n",
      "[tensor(59.0909), tensor(58.4416), tensor(62.9870), tensor(60.3896), tensor(57.1429), tensor(62.3377), tensor(61.0390), tensor(61.6883), tensor(60.3896), tensor(61.0390), tensor(61.0390), tensor(61.0390), tensor(62.3377), tensor(62.3377), tensor(61.6883), tensor(60.3896), tensor(62.3377), tensor(61.6883), tensor(62.3377), tensor(61.0390), tensor(59.0909), tensor(62.9870), tensor(59.7403), tensor(59.0909), tensor(62.9870), tensor(59.7403), tensor(60.3896), tensor(61.0390), tensor(61.0390), tensor(61.0390), tensor(61.6883), tensor(62.9870), tensor(59.0909), tensor(59.7403), tensor(59.0909), tensor(58.4416), tensor(58.4416), tensor(61.0390), tensor(59.7403), tensor(62.3377), tensor(62.3377), tensor(60.3896), tensor(61.6883), tensor(58.4416), tensor(61.6883), tensor(60.3896), tensor(61.0390), tensor(60.3896), tensor(61.0390), tensor(62.9870), tensor(61.6883), tensor(61.6883), tensor(61.6883), tensor(61.6883), tensor(61.0390), tensor(61.0390), tensor(61.0390), tensor(61.6883), tensor(61.0390), tensor(61.0390), tensor(59.7403), tensor(59.7403), tensor(59.7403), tensor(59.7403), tensor(60.3896), tensor(60.3896), tensor(61.6883), tensor(62.3377), tensor(59.0909), tensor(59.0909), tensor(59.0909), tensor(59.0909), tensor(59.0909), tensor(61.0390), tensor(60.3896), tensor(61.0390), tensor(60.3896), tensor(61.6883), tensor(61.0390), tensor(61.0390), tensor(59.0909), tensor(60.3896), tensor(59.0909), tensor(59.0909), tensor(59.0909), tensor(59.0909), tensor(61.6883), tensor(60.3896), tensor(60.3896), tensor(60.3896), tensor(59.7403), tensor(59.7403), tensor(59.7403), tensor(60.3896), tensor(60.3896), tensor(60.3896), tensor(59.0909), tensor(59.0909), tensor(59.0909), tensor(59.0909)]\n"
     ]
    }
   ],
   "source": [
    "accuracy=[]\n",
    "testing_accuracy=[]\n",
    "training_losses_kfold=[]\n",
    "validation_losses_kfold=[]\n",
    "for fold,(train_id,validation_id) in enumerate(k.split(dataset)):\n",
    "    print(f'current fold is {fold}')\n",
    "    training=SubsetRandomSampler(train_id)\n",
    "    validation=SubsetRandomSampler(validation_id)\n",
    "    training_loader=DataLoader(dataset,batch_size=5,sampler=training)\n",
    "    validation_loader=DataLoader(dataset,batch_size=5,sampler=validation)\n",
    "    testing_best_loss=100000000\n",
    "    epoch_current=1\n",
    "    epochs=20\n",
    "    num_correct=0\n",
    "    num_samples=0\n",
    "    correct_epoch=[]\n",
    "    y_prediction=[]\n",
    "    y_true=[]\n",
    "    not_improving=0\n",
    "    for epoch in range(epochs):\n",
    "        t0=time.time()\n",
    "        num_correct=0\n",
    "        num_samples=0\n",
    "        test_num_correct=0\n",
    "        test_num_samples=0\n",
    "        print(f'current epoch is {epoch_current}')\n",
    "        base_model.train(True)\n",
    "        train_loss=train_one_epoch(epoch_current)\n",
    "        base_model.train(False)\n",
    "        print(f'training loss is {train_loss}')\n",
    "        testing_loss=0\n",
    "        total_testing_loss=0\n",
    "        for i,testdata in enumerate(validation_loader):\n",
    "            testinputs,testlabels=testdata\n",
    "            testinputs=torch.tensor(testinputs)\n",
    "            testinputs=testinputs.to(torch.float32)\n",
    "            testlabels=torch.tensor(testlabels)\n",
    "            testlabels=testlabels.to(torch.float32)\n",
    "            testoutputs=base_model(testinputs)\n",
    "            testloss=loss_fn(testoutputs,testlabels)\n",
    "            total_testing_loss+=testloss\n",
    "            avg_testing_loss=total_testing_loss/(i+1)\n",
    "            predictions=(testoutputs>=0.5)\n",
    "            num_correct+=(predictions==testlabels).sum()\n",
    "            num_samples+=predictions.size(0)\n",
    "            if (avg_testing_loss<testing_best_loss):\n",
    "                testing_best_loss=avg_testing_loss\n",
    "                best_model=base_model.state_dict()\n",
    "                predictions=(testoutputs>0.5)\n",
    "                correct_ones=((predictions==testlabels).sum())/(testlabels.size(dim=0))\n",
    "        training_losses_kfold.append(train_loss)\n",
    "        validation_losses_kfold.append(avg_testing_loss)\n",
    "        correct_epoch.append(num_correct)\n",
    "        accuracy.append(num_correct/num_samples*100)\n",
    "        \n",
    "        for j,testdata1 in enumerate(testing_loader):\n",
    "            testinputs1,testlabels1=testdata1\n",
    "            testoutputs1=base_model(testinputs1)\n",
    "            predictions=(testoutputs1>=0.5)\n",
    "            test_num_correct+=(predictions==testlabels1).sum()\n",
    "            test_num_samples+=predictions.size(0)\n",
    "        testing_accuracy.append(test_num_correct/test_num_samples*100)         \n",
    "#         if(num_correct>max(correct_epoch)):\n",
    "#             not_improving=0\n",
    "#         else:\n",
    "#             not_improving+=1\n",
    "#         if(not_improving==3):\n",
    "#             break\n",
    "\n",
    "        epoch_current+=1\n",
    "    base_model1_time=time.time()-t0\n",
    "    print(f'time_taken is {base_model1_time}')\n",
    "    print(testing_best_loss)\n",
    "    print(num_correct)\n",
    "    print(correct_epoch)\n",
    "    print(correct_ones*100)\n",
    "torch.save(best_model,f'kfold.h5')    \n",
    "print(accuracy)    \n",
    "print(testing_accuracy)"
   ]
  },
  {
   "cell_type": "code",
   "execution_count": 327,
   "id": "b7743d34",
   "metadata": {},
   "outputs": [],
   "source": [
    "ans=[ele.detach().numpy() for ele in testing_losses_base_model]\n",
    "ans3=[ele.detach().numpy() for ele in validation_losses_kfold]"
   ]
  },
  {
   "cell_type": "code",
   "execution_count": 329,
   "id": "ab047549",
   "metadata": {},
   "outputs": [
    {
     "data": {
      "image/png": "[encoded data removed]",
      "text/plain": [
       "<Figure size 640x480 with 1 Axes>"
      ]
     },
     "metadata": {},
     "output_type": "display_data"
    }
   ],
   "source": [
    "epochs=range(1,101)\n",
    "#epochs2=range(1,len(training_losses_earlystopping)+1)\n",
    "plt.plot(epochs,training_losses_kfold,'g',label='training loss kfold')\n",
    "plt.plot(epochs,ans3,'b',label='validation loss kfold')\n",
    "plt.plot(epochs,training_losses_base_model,'r',label='training loss base model')\n",
    "plt.plot(epochs,ans,'y',label='testing loss base model')\n",
    "plt.legend()\n",
    "plt.show()"
   ]
  },
  {
   "cell_type": "code",
   "execution_count": 266,
   "id": "e1cf99e6",
   "metadata": {},
   "outputs": [
    {
     "data": {
      "text/plain": [
       "<All keys matched successfully>"
      ]
     },
     "execution_count": 266,
     "metadata": {},
     "output_type": "execute_result"
    }
   ],
   "source": [
    "base_model.load_state_dict(torch.load(f'kfold.h5'))"
   ]
  },
  {
   "cell_type": "markdown",
   "id": "765155ad",
   "metadata": {},
   "source": [
    "Now let's look at learning rate scheduler\n"
   ]
  },
  {
   "cell_type": "code",
   "execution_count": 333,
   "id": "b4750b7b",
   "metadata": {},
   "outputs": [],
   "source": [
    "def train_one_epoch(epoch_index):\n",
    "    running_loss = 0.\n",
    "    last_loss = 0.\n",
    "    for i, data in enumerate(training_loader):\n",
    "        inputs, labels = data\n",
    "        optimizer.zero_grad()\n",
    "        outputs = base_model(inputs)\n",
    "        loss = loss_fn(outputs, labels)\n",
    "        loss.backward()\n",
    "        optimizer.step()\n",
    "        running_loss += loss.item()\n",
    "        if i % 20 == 19:\n",
    "            last_loss = running_loss/19  \n",
    "#            print('  batch {} loss: {}'.format(i + 1, last_loss))\n",
    "#             tb_x = epoch_index * len(training_loader) + i + 1\n",
    "#             tb_writer.add_scalar('Loss/train', last_loss, tb_x)\n",
    "            running_loss = 0\n",
    "    return last_loss"
   ]
  },
  {
   "cell_type": "code",
   "execution_count": 336,
   "id": "b2143333",
   "metadata": {},
   "outputs": [
    {
     "name": "stdout",
     "output_type": "stream",
     "text": [
      "current epoch is 1\n",
      "training loss is 0.685383959820396\n",
      "current epoch is 2\n",
      "training loss is 0.6734302608590377\n",
      "current epoch is 3\n",
      "training loss is 0.6201791935845425\n",
      "current epoch is 4\n",
      "training loss is 0.6491969917949877\n",
      "current epoch is 5\n",
      "training loss is 0.5043375931288067\n",
      "current epoch is 6\n",
      "training loss is 0.5710774518941578\n",
      "current epoch is 7\n",
      "training loss is 0.4112567270272656\n",
      "current epoch is 8\n",
      "training loss is 0.4291168686590697\n",
      "current epoch is 9\n",
      "training loss is 0.3748890718347148\n",
      "current epoch is 10\n",
      "training loss is 0.49613461996379654\n",
      "current epoch is 11\n",
      "training loss is 0.35199420742298426\n",
      "current epoch is 12\n",
      "training loss is 0.4184715563529416\n",
      "current epoch is 13\n",
      "training loss is 0.3949858338425034\n",
      "current epoch is 14\n",
      "training loss is 0.4134691118409759\n",
      "current epoch is 15\n",
      "training loss is 0.4075080250438891\n",
      "current epoch is 16\n",
      "training loss is 0.4713590403920726\n",
      "current epoch is 17\n",
      "training loss is 0.41280420908802434\n",
      "current epoch is 18\n",
      "training loss is 0.3168406780613096\n",
      "current epoch is 19\n",
      "training loss is 0.41561172745729746\n",
      "current epoch is 20\n",
      "training loss is 0.3920888206676433\n",
      "current epoch is 21\n",
      "training loss is 0.3607233166694641\n",
      "current epoch is 22\n",
      "training loss is 0.4206976780765935\n",
      "current epoch is 23\n",
      "training loss is 0.4273318616967452\n",
      "current epoch is 24\n",
      "training loss is 0.34914642729257284\n",
      "current epoch is 25\n",
      "training loss is 0.36667531885598836\n",
      "current epoch is 26\n",
      "training loss is 0.4463941000009838\n",
      "current epoch is 27\n",
      "training loss is 0.37585413142254476\n",
      "current epoch is 28\n",
      "training loss is 0.3777391016483307\n",
      "current epoch is 29\n",
      "training loss is 0.3821019385206072\n",
      "current epoch is 30\n",
      "training loss is 0.437764972448349\n",
      "current epoch is 31\n",
      "training loss is 0.4006210087161315\n",
      "current epoch is 32\n",
      "training loss is 0.3442022729861109\n",
      "current epoch is 33\n",
      "training loss is 0.44709388676442596\n",
      "current epoch is 34\n",
      "training loss is 0.35433573373838473\n",
      "current epoch is 35\n",
      "training loss is 0.3918322026729584\n",
      "current epoch is 36\n",
      "training loss is 0.37861647300030055\n",
      "current epoch is 37\n",
      "training loss is 0.3746226390725688\n",
      "current epoch is 38\n",
      "training loss is 0.37293911529214757\n",
      "current epoch is 39\n",
      "training loss is 0.41074627402581665\n",
      "current epoch is 40\n",
      "training loss is 0.3749553196524319\n",
      "current epoch is 41\n",
      "training loss is 0.3321992994139069\n",
      "current epoch is 42\n",
      "training loss is 0.39579515002275767\n",
      "current epoch is 43\n",
      "training loss is 0.428314062325578\n",
      "current epoch is 44\n",
      "training loss is 0.39139797852227565\n",
      "current epoch is 45\n",
      "training loss is 0.3952060459475768\n",
      "current epoch is 46\n",
      "training loss is 0.32442235358451543\n",
      "current epoch is 47\n",
      "training loss is 0.33422951164998504\n",
      "current epoch is 48\n",
      "training loss is 0.42719461180661855\n",
      "current epoch is 49\n",
      "training loss is 0.3686144179419467\n",
      "current epoch is 50\n",
      "training loss is 0.3886245032282252\n",
      "current epoch is 51\n",
      "training loss is 0.37230881185908066\n",
      "current epoch is 52\n",
      "training loss is 0.3457891250911512\n",
      "current epoch is 53\n",
      "training loss is 0.3451766238400811\n",
      "current epoch is 54\n",
      "training loss is 0.39329182042887334\n",
      "current epoch is 55\n",
      "training loss is 0.4469988275515406\n",
      "current epoch is 56\n",
      "training loss is 0.41238599192155034\n",
      "current epoch is 57\n",
      "training loss is 0.41038597022232254\n",
      "current epoch is 58\n",
      "training loss is 0.4269103086308429\n",
      "current epoch is 59\n",
      "training loss is 0.4498090673434107\n",
      "current epoch is 60\n",
      "training loss is 0.39851088743460805\n",
      "current epoch is 61\n",
      "training loss is 0.34102196599307816\n",
      "current epoch is 62\n",
      "training loss is 0.3655349674977754\n",
      "current epoch is 63\n",
      "training loss is 0.42880307843810633\n",
      "current epoch is 64\n",
      "training loss is 0.41205725701231705\n",
      "current epoch is 65\n",
      "training loss is 0.3845411209683669\n",
      "current epoch is 66\n",
      "training loss is 0.40270674856085525\n",
      "current epoch is 67\n",
      "training loss is 0.43371216658698886\n",
      "current epoch is 68\n",
      "training loss is 0.4423526980374989\n",
      "current epoch is 69\n",
      "training loss is 0.42729291319847107\n",
      "current epoch is 70\n",
      "training loss is 0.3763917484565785\n",
      "current epoch is 71\n",
      "training loss is 0.3467561524165304\n",
      "current epoch is 72\n",
      "training loss is 0.4296314904564305\n",
      "current epoch is 73\n",
      "training loss is 0.3704634618602301\n",
      "current epoch is 74\n",
      "training loss is 0.3334190770983696\n",
      "current epoch is 75\n",
      "training loss is 0.4547655660855143\n",
      "current epoch is 76\n",
      "training loss is 0.4080566512910943\n",
      "current epoch is 77\n",
      "training loss is 0.3692883307996549\n",
      "current epoch is 78\n",
      "training loss is 0.4090903142565175\n",
      "current epoch is 79\n",
      "training loss is 0.3941900855616519\n",
      "current epoch is 80\n",
      "training loss is 0.3887386722000022\n",
      "current epoch is 81\n",
      "training loss is 0.509839200659802\n",
      "current epoch is 82\n",
      "training loss is 0.4398074793188195\n",
      "current epoch is 83\n",
      "training loss is 0.37306507167063263\n",
      "current epoch is 84\n",
      "training loss is 0.39812732644771276\n",
      "current epoch is 85\n",
      "training loss is 0.37410008515182297\n",
      "current epoch is 86\n",
      "training loss is 0.4146290543048005\n",
      "current epoch is 87\n",
      "training loss is 0.3346022665500641\n",
      "current epoch is 88\n",
      "training loss is 0.41805355525330495\n",
      "current epoch is 89\n",
      "training loss is 0.3843266344384143\n",
      "current epoch is 90\n",
      "training loss is 0.3989742359048442\n",
      "current epoch is 91\n",
      "training loss is 0.41001922754864945\n",
      "current epoch is 92\n",
      "training loss is 0.3699079814710115\n",
      "current epoch is 93\n",
      "training loss is 0.38849843803204986\n",
      "current epoch is 94\n",
      "training loss is 0.32795783230348635\n",
      "current epoch is 95\n",
      "training loss is 0.4208983869144791\n",
      "current epoch is 96\n",
      "training loss is 0.4273812080684461\n",
      "current epoch is 97\n",
      "training loss is 0.37162817995014946\n",
      "current epoch is 98\n",
      "training loss is 0.4329821043892911\n",
      "current epoch is 99\n",
      "training loss is 0.38497836260419144\n",
      "current epoch is 100\n",
      "training loss is 0.42257091677502584\n",
      "time_taken is 0.3672640323638916\n",
      "tensor(0.2670, grad_fn=<DivBackward0>)\n",
      "tensor(94)\n",
      "[tensor(100), tensor(100), tensor(100), tensor(98), tensor(98), tensor(94), tensor(93), tensor(93), tensor(94), tensor(93), tensor(95), tensor(94), tensor(95), tensor(94), tensor(94), tensor(94), tensor(94), tensor(94), tensor(94), tensor(94), tensor(94), tensor(94), tensor(94), tensor(94), tensor(94), tensor(94), tensor(94), tensor(94), tensor(94), tensor(94), tensor(94), tensor(94), tensor(94), tensor(94), tensor(94), tensor(94), tensor(94), tensor(94), tensor(94), tensor(94), tensor(94), tensor(94), tensor(94), tensor(94), tensor(94), tensor(94), tensor(94), tensor(94), tensor(94), tensor(94), tensor(94), tensor(94), tensor(94), tensor(94), tensor(94), tensor(94), tensor(94), tensor(94), tensor(94), tensor(94), tensor(94), tensor(94), tensor(94), tensor(94), tensor(94), tensor(94), tensor(94), tensor(94), tensor(94), tensor(94), tensor(94), tensor(94), tensor(94), tensor(94), tensor(94), tensor(94), tensor(94), tensor(94), tensor(94), tensor(94), tensor(94), tensor(94), tensor(94), tensor(94), tensor(94), tensor(94), tensor(94), tensor(94), tensor(94), tensor(94), tensor(94), tensor(94), tensor(94), tensor(94), tensor(94), tensor(94), tensor(94), tensor(94), tensor(94), tensor(94)]\n",
      "tensor(100.)\n"
     ]
    }
   ],
   "source": [
    "dataset = TensorDataset(X_train_tensor, Y_train_tensor)\n",
    "training_loader = DataLoader(dataset, batch_size=batch_size, shuffle=True)\n",
    "testing_best_loss=100000000\n",
    "epoch_current=1\n",
    "epochs=100\n",
    "num_correct=0\n",
    "num_samples=0\n",
    "correct_epoch=[]\n",
    "y_prediction=[]\n",
    "y_true=[]\n",
    "not_improving=0\n",
    "optimizer=torch.optim.SGD(base_model.parameters(),lr=0.01)\n",
    "scheduler=lr_scheduler.StepLR(optimizer,step_size=5,gamma=0.1)\n",
    "training_losses_learning_rate_scheduler=[]\n",
    "testing_losses_learning_rate_scheduler=[]\n",
    "for epoch in range(epochs):\n",
    "    t0=time.time()\n",
    "    num_correct=0\n",
    "    num_samples=0\n",
    "    print(f'current epoch is {epoch_current}')\n",
    "    base_model.train(True)\n",
    "    train_loss=train_one_epoch(epoch_current)\n",
    "    base_model.train(False)\n",
    "    scheduler.step()\n",
    "    print(f'training loss is {train_loss}')\n",
    "    testing_loss=0\n",
    "    total_testing_loss=0\n",
    "    for i,testdata in enumerate(testing_loader):\n",
    "        testinputs,testlabels=testdata\n",
    "        testoutputs=base_model(testinputs)\n",
    "        testloss=loss_fn(testoutputs,testlabels)\n",
    "        total_testing_loss+=testloss\n",
    "        avg_testing_loss=total_testing_loss/(i+1)\n",
    "        predictions=(testoutputs>=0.5)\n",
    "        num_correct+=(predictions==testlabels).sum()\n",
    "        num_samples+=predictions.size(0)\n",
    "        if (avg_testing_loss<testing_best_loss):\n",
    "            testing_best_loss=avg_testing_loss\n",
    "            best_model=base_model.state_dict()\n",
    "            predictions=(testoutputs>0.5)\n",
    "            correct_ones=((predictions==testlabels).sum())/(testlabels.size(dim=0))\n",
    "    training_losses_learning_rate_scheduler.append(train_loss)\n",
    "    testing_losses_learning_rate_scheduler.append(avg_testing_loss)\n",
    "    correct_epoch.append(num_correct)\n",
    "#     if(num_correct>max(correct_epoch)):\n",
    "#         not_improving=0\n",
    "#     else:\n",
    "#         not_improving+=1\n",
    "#     if(not_improving==3):\n",
    "#         break\n",
    "    \n",
    "    epoch_current+=1\n",
    "# for i,testdata in enumerate(testing_loader):\n",
    "#     testinputs,testlabels=testdata\n",
    "#     testoutputs=best_model(testinputs)\n",
    "#     predictions=(testoutputs>0.5)\n",
    "#     num_correct_final+=(predictions==testlabels).sum()\n",
    "base_model1_lrs_time=time.time()-t0\n",
    "print(f'time_taken is {base_model1_time}')\n",
    "print(testing_best_loss)\n",
    "print(num_correct)\n",
    "print(correct_epoch)\n",
    "print(correct_ones*100)"
   ]
  },
  {
   "cell_type": "code",
   "execution_count": 343,
   "id": "848b6755",
   "metadata": {},
   "outputs": [
    {
     "data": {
      "text/plain": [
       "100"
      ]
     },
     "execution_count": 343,
     "metadata": {},
     "output_type": "execute_result"
    }
   ],
   "source": [
    "ans=[ele.detach().numpy() for ele in testing_losses_base_model]\n",
    "ans3=[ele.detach().numpy() for ele in testing_losses_learning_rate_scheduler]\n",
    "len(ans3)"
   ]
  },
  {
   "cell_type": "code",
   "execution_count": 344,
   "id": "cb32f167",
   "metadata": {},
   "outputs": [
    {
     "data": {
      "image/png": "[encoded data removed]",
      "text/plain": [
       "<Figure size 640x480 with 1 Axes>"
      ]
     },
     "metadata": {},
     "output_type": "display_data"
    }
   ],
   "source": [
    "epochs=range(1,101)\n",
    "plt.plot(epochs,training_losses_learning_rate_scheduler,'g',label='training loss learning rate scheduler')\n",
    "plt.plot(epochs,ans3,'b',label='testing loss learning rate scheduler')\n",
    "plt.plot(epochs,training_losses_base_model,'r',label='training loss base model')\n",
    "plt.plot(epochs,ans,'y',label='testing loss base model')\n",
    "plt.legend()\n",
    "plt.show()"
   ]
  },
  {
   "cell_type": "markdown",
   "id": "326af94a",
   "metadata": {},
   "source": [
    "The accuracy is close to 80 percentage."
   ]
  },
  {
   "cell_type": "markdown",
   "id": "e8dbfa50",
   "metadata": {},
   "source": [
    "The training time is"
   ]
  },
  {
   "cell_type": "code",
   "execution_count": 294,
   "id": "737538de",
   "metadata": {},
   "outputs": [
    {
     "data": {
      "text/plain": [
       "0.2711198329925537"
      ]
     },
     "execution_count": 294,
     "metadata": {},
     "output_type": "execute_result"
    }
   ],
   "source": [
    "model5_time-base_model1_lrs_time"
   ]
  },
  {
   "cell_type": "markdown",
   "id": "cbfbd8da",
   "metadata": {},
   "source": [
    "These optimisation models are a lot faster in terms of training time than the base model with no optimisation Method."
   ]
  },
  {
   "cell_type": "markdown",
   "id": "82194acc",
   "metadata": {},
   "source": [
    "Only k-fold cross validation has the higher training time understandably since the each part of the training set is looped around 5 times either in the form of the training or validation set."
   ]
  },
  {
   "cell_type": "markdown",
   "id": "9ca5699d",
   "metadata": {},
   "source": [
    "Team Member                 |             Assignment Part     |     Contribution\n",
    "\n",
    "1. Nikhileswar Mada         |            I-II                 |       50%\n",
    "\n",
    "2.Bharath Siva Sai Potru    |            I-II                 |       50%"
   ]
  },
  {
   "cell_type": "code",
   "execution_count": null,
   "id": "4f34c70b",
   "metadata": {},
   "outputs": [],
   "source": []
  }
 ],
 "metadata": {
  "kernelspec": {
   "display_name": "Python 3 (ipykernel)",
   "language": "python",
   "name": "python3"
  },
  "language_info": {
   "codemirror_mode": {
    "name": "ipython",
    "version": 3
   },
   "file_extension": ".py",
   "mimetype": "text/x-python",
   "name": "python",
   "nbconvert_exporter": "python",
   "pygments_lexer": "ipython3",
   "version": "3.9.16"
  }
 },
 "nbformat": 4,
 "nbformat_minor": 5
}
